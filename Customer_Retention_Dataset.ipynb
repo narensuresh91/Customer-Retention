{
 "cells": [
  {
   "cell_type": "code",
   "execution_count": 1,
   "metadata": {},
   "outputs": [],
   "source": [
    "import pandas as pd\n",
    "import numpy as np\n",
    "import seaborn as sns\n",
    "import matplotlib.pyplot as plt\n",
    "import warnings\n",
    "warnings.filterwarnings('ignore')"
   ]
  },
  {
   "cell_type": "code",
   "execution_count": 2,
   "metadata": {},
   "outputs": [],
   "source": [
    "df=pd.read_excel('customer_retention_coded.xlsx')"
   ]
  },
  {
   "cell_type": "code",
   "execution_count": 3,
   "metadata": {},
   "outputs": [
    {
     "data": {
      "text/html": [
       "<div>\n",
       "<style scoped>\n",
       "    .dataframe tbody tr th:only-of-type {\n",
       "        vertical-align: middle;\n",
       "    }\n",
       "\n",
       "    .dataframe tbody tr th {\n",
       "        vertical-align: top;\n",
       "    }\n",
       "\n",
       "    .dataframe thead th {\n",
       "        text-align: right;\n",
       "    }\n",
       "</style>\n",
       "<table border=\"1\" class=\"dataframe\">\n",
       "  <thead>\n",
       "    <tr style=\"text-align: right;\">\n",
       "      <th></th>\n",
       "      <th>Gender of respondent</th>\n",
       "      <th>How old are you?</th>\n",
       "      <th>Which city do you shop online from?</th>\n",
       "      <th>What is the Pin Code of where you shop online from?</th>\n",
       "      <th>Since How Long You are Shopping Online ?</th>\n",
       "      <th>How many times you have made an online purchase in the past 1 year?</th>\n",
       "      <th>How do you access the internet while shopping on-line?</th>\n",
       "      <th>Which device do you use to access the online shopping?</th>\n",
       "      <th>What is the screen size of your mobile device?</th>\n",
       "      <th>What is the operating system (OS) of your device?</th>\n",
       "      <th>...</th>\n",
       "      <th>Longer time to get logged in (promotion, sales period)</th>\n",
       "      <th>Longer time in displaying graphics and photos (promotion, sales period)</th>\n",
       "      <th>Late declaration of price (promotion, sales period)</th>\n",
       "      <th>Longer page loading time (promotion, sales period)</th>\n",
       "      <th>Limited mode of payment on most products (promotion, sales period)</th>\n",
       "      <th>Longer delivery period</th>\n",
       "      <th>Change in website/Application design</th>\n",
       "      <th>Frequent disruption when moving from one page to another</th>\n",
       "      <th>Website is as efficient as before</th>\n",
       "      <th>Which of the Indian online retailer would you recommend to a friend?</th>\n",
       "    </tr>\n",
       "  </thead>\n",
       "  <tbody>\n",
       "    <tr>\n",
       "      <th>0</th>\n",
       "      <td>0</td>\n",
       "      <td>3</td>\n",
       "      <td>Delhi</td>\n",
       "      <td>110009</td>\n",
       "      <td>5</td>\n",
       "      <td>4</td>\n",
       "      <td>4</td>\n",
       "      <td>3</td>\n",
       "      <td>5</td>\n",
       "      <td>1</td>\n",
       "      <td>...</td>\n",
       "      <td>Amazon.in</td>\n",
       "      <td>Amazon.in</td>\n",
       "      <td>Flipkart.com</td>\n",
       "      <td>Flipkart.com</td>\n",
       "      <td>Amazon.in</td>\n",
       "      <td>Paytm.com</td>\n",
       "      <td>Flipkart.com</td>\n",
       "      <td>Amazon.in</td>\n",
       "      <td>Amazon.in</td>\n",
       "      <td>Flipkart.com</td>\n",
       "    </tr>\n",
       "    <tr>\n",
       "      <th>1</th>\n",
       "      <td>1</td>\n",
       "      <td>2</td>\n",
       "      <td>Delhi</td>\n",
       "      <td>110030</td>\n",
       "      <td>5</td>\n",
       "      <td>5</td>\n",
       "      <td>2</td>\n",
       "      <td>1</td>\n",
       "      <td>2</td>\n",
       "      <td>3</td>\n",
       "      <td>...</td>\n",
       "      <td>Amazon.in, Flipkart.com</td>\n",
       "      <td>Myntra.com</td>\n",
       "      <td>snapdeal.com</td>\n",
       "      <td>Snapdeal.com</td>\n",
       "      <td>Snapdeal.com</td>\n",
       "      <td>Snapdeal.com</td>\n",
       "      <td>Amazon.in</td>\n",
       "      <td>Myntra.com</td>\n",
       "      <td>Amazon.in, Flipkart.com</td>\n",
       "      <td>Amazon.in, Myntra.com</td>\n",
       "    </tr>\n",
       "    <tr>\n",
       "      <th>2</th>\n",
       "      <td>1</td>\n",
       "      <td>2</td>\n",
       "      <td>Greater Noida</td>\n",
       "      <td>201308</td>\n",
       "      <td>4</td>\n",
       "      <td>5</td>\n",
       "      <td>3</td>\n",
       "      <td>1</td>\n",
       "      <td>4</td>\n",
       "      <td>2</td>\n",
       "      <td>...</td>\n",
       "      <td>Myntra.com</td>\n",
       "      <td>Myntra.com</td>\n",
       "      <td>Myntra.com</td>\n",
       "      <td>Myntra.com</td>\n",
       "      <td>Amazon.in</td>\n",
       "      <td>Paytm.com</td>\n",
       "      <td>Paytm.com</td>\n",
       "      <td>Paytm.com</td>\n",
       "      <td>Amazon.in</td>\n",
       "      <td>Amazon.in, Paytm.com, Myntra.com</td>\n",
       "    </tr>\n",
       "    <tr>\n",
       "      <th>3</th>\n",
       "      <td>0</td>\n",
       "      <td>2</td>\n",
       "      <td>Karnal</td>\n",
       "      <td>132001</td>\n",
       "      <td>4</td>\n",
       "      <td>1</td>\n",
       "      <td>3</td>\n",
       "      <td>1</td>\n",
       "      <td>4</td>\n",
       "      <td>3</td>\n",
       "      <td>...</td>\n",
       "      <td>Snapdeal.com</td>\n",
       "      <td>Myntra.com, Snapdeal.com</td>\n",
       "      <td>Myntra.com</td>\n",
       "      <td>Paytm.com</td>\n",
       "      <td>Paytm.com</td>\n",
       "      <td>Paytm.com</td>\n",
       "      <td>Amazon.in, Flipkart.com</td>\n",
       "      <td>Amazon.in, Flipkart.com</td>\n",
       "      <td>Amazon.in, Flipkart.com, Paytm.com</td>\n",
       "      <td>Amazon.in, Flipkart.com</td>\n",
       "    </tr>\n",
       "    <tr>\n",
       "      <th>4</th>\n",
       "      <td>1</td>\n",
       "      <td>2</td>\n",
       "      <td>Bangalore</td>\n",
       "      <td>530068</td>\n",
       "      <td>3</td>\n",
       "      <td>2</td>\n",
       "      <td>2</td>\n",
       "      <td>1</td>\n",
       "      <td>2</td>\n",
       "      <td>3</td>\n",
       "      <td>...</td>\n",
       "      <td>Flipkart.com, Paytm.com</td>\n",
       "      <td>Paytm.com</td>\n",
       "      <td>Paytm.com</td>\n",
       "      <td>Paytm.com</td>\n",
       "      <td>Snapdeal.com</td>\n",
       "      <td>Paytm.com</td>\n",
       "      <td>Amazon.in</td>\n",
       "      <td>Snapdeal.com</td>\n",
       "      <td>Paytm.com</td>\n",
       "      <td>Amazon.in, Myntra.com</td>\n",
       "    </tr>\n",
       "    <tr>\n",
       "      <th>...</th>\n",
       "      <td>...</td>\n",
       "      <td>...</td>\n",
       "      <td>...</td>\n",
       "      <td>...</td>\n",
       "      <td>...</td>\n",
       "      <td>...</td>\n",
       "      <td>...</td>\n",
       "      <td>...</td>\n",
       "      <td>...</td>\n",
       "      <td>...</td>\n",
       "      <td>...</td>\n",
       "      <td>...</td>\n",
       "      <td>...</td>\n",
       "      <td>...</td>\n",
       "      <td>...</td>\n",
       "      <td>...</td>\n",
       "      <td>...</td>\n",
       "      <td>...</td>\n",
       "      <td>...</td>\n",
       "      <td>...</td>\n",
       "      <td>...</td>\n",
       "    </tr>\n",
       "    <tr>\n",
       "      <th>264</th>\n",
       "      <td>1</td>\n",
       "      <td>2</td>\n",
       "      <td>Solan</td>\n",
       "      <td>173212</td>\n",
       "      <td>2</td>\n",
       "      <td>1</td>\n",
       "      <td>3</td>\n",
       "      <td>1</td>\n",
       "      <td>4</td>\n",
       "      <td>2</td>\n",
       "      <td>...</td>\n",
       "      <td>Amazon.in</td>\n",
       "      <td>Amazon.in</td>\n",
       "      <td>Amazon.in</td>\n",
       "      <td>Amazon.in</td>\n",
       "      <td>Amazon.in</td>\n",
       "      <td>Amazon.in</td>\n",
       "      <td>Amazon.in</td>\n",
       "      <td>Amazon.in</td>\n",
       "      <td>Amazon.in</td>\n",
       "      <td>Amazon.in</td>\n",
       "    </tr>\n",
       "    <tr>\n",
       "      <th>265</th>\n",
       "      <td>1</td>\n",
       "      <td>3</td>\n",
       "      <td>Ghaziabad</td>\n",
       "      <td>201008</td>\n",
       "      <td>2</td>\n",
       "      <td>4</td>\n",
       "      <td>3</td>\n",
       "      <td>1</td>\n",
       "      <td>5</td>\n",
       "      <td>2</td>\n",
       "      <td>...</td>\n",
       "      <td>Flipkart.com</td>\n",
       "      <td>Flipkart.com</td>\n",
       "      <td>Flipkart.com</td>\n",
       "      <td>Flipkart.com</td>\n",
       "      <td>Flipkart.com</td>\n",
       "      <td>Flipkart.com</td>\n",
       "      <td>Flipkart.com</td>\n",
       "      <td>Flipkart.com</td>\n",
       "      <td>Flipkart.com</td>\n",
       "      <td>Flipkart.com</td>\n",
       "    </tr>\n",
       "    <tr>\n",
       "      <th>266</th>\n",
       "      <td>1</td>\n",
       "      <td>4</td>\n",
       "      <td>Bangalore</td>\n",
       "      <td>560010</td>\n",
       "      <td>3</td>\n",
       "      <td>1</td>\n",
       "      <td>3</td>\n",
       "      <td>2</td>\n",
       "      <td>5</td>\n",
       "      <td>1</td>\n",
       "      <td>...</td>\n",
       "      <td>Amazon.in</td>\n",
       "      <td>Snapdeal.com</td>\n",
       "      <td>Amazon.in</td>\n",
       "      <td>Snapdeal.com</td>\n",
       "      <td>Snapdeal.com</td>\n",
       "      <td>Snapdeal.com</td>\n",
       "      <td>Snapdeal.com</td>\n",
       "      <td>Snapdeal.com</td>\n",
       "      <td>Amazon.in</td>\n",
       "      <td>Amazon.in</td>\n",
       "    </tr>\n",
       "    <tr>\n",
       "      <th>267</th>\n",
       "      <td>1</td>\n",
       "      <td>1</td>\n",
       "      <td>Solan</td>\n",
       "      <td>173229</td>\n",
       "      <td>3</td>\n",
       "      <td>1</td>\n",
       "      <td>2</td>\n",
       "      <td>1</td>\n",
       "      <td>4</td>\n",
       "      <td>2</td>\n",
       "      <td>...</td>\n",
       "      <td>Amazon.in</td>\n",
       "      <td>Amazon.in, Myntra.com, Snapdeal.com</td>\n",
       "      <td>Amazon.in</td>\n",
       "      <td>Amazon.in, Snapdeal.com</td>\n",
       "      <td>Amazon.in</td>\n",
       "      <td>Amazon.in</td>\n",
       "      <td>Amazon.in</td>\n",
       "      <td>Myntra.com, Snapdeal.com</td>\n",
       "      <td>Myntra.com, Snapdeal.com</td>\n",
       "      <td>Amazon.in</td>\n",
       "    </tr>\n",
       "    <tr>\n",
       "      <th>268</th>\n",
       "      <td>1</td>\n",
       "      <td>4</td>\n",
       "      <td>Ghaziabad</td>\n",
       "      <td>201009</td>\n",
       "      <td>3</td>\n",
       "      <td>4</td>\n",
       "      <td>3</td>\n",
       "      <td>1</td>\n",
       "      <td>4</td>\n",
       "      <td>2</td>\n",
       "      <td>...</td>\n",
       "      <td>Amazon.in</td>\n",
       "      <td>Amazon.in</td>\n",
       "      <td>Amazon.in</td>\n",
       "      <td>Amazon.in</td>\n",
       "      <td>Amazon.in</td>\n",
       "      <td>Amazon.in</td>\n",
       "      <td>Amazon.in</td>\n",
       "      <td>Amazon.in</td>\n",
       "      <td>Amazon.in</td>\n",
       "      <td>Amazon.in</td>\n",
       "    </tr>\n",
       "  </tbody>\n",
       "</table>\n",
       "<p>269 rows × 71 columns</p>\n",
       "</div>"
      ],
      "text/plain": [
       "     Gender of respondent  How old are you?  \\\n",
       "0                       0                 3   \n",
       "1                       1                 2   \n",
       "2                       1                 2   \n",
       "3                       0                 2   \n",
       "4                       1                 2   \n",
       "..                    ...               ...   \n",
       "264                     1                 2   \n",
       "265                     1                 3   \n",
       "266                     1                 4   \n",
       "267                     1                 1   \n",
       "268                     1                 4   \n",
       "\n",
       "    Which city do you shop online from?  \\\n",
       "0                                 Delhi   \n",
       "1                                 Delhi   \n",
       "2                         Greater Noida   \n",
       "3                               Karnal    \n",
       "4                            Bangalore    \n",
       "..                                  ...   \n",
       "264                               Solan   \n",
       "265                           Ghaziabad   \n",
       "266                          Bangalore    \n",
       "267                               Solan   \n",
       "268                           Ghaziabad   \n",
       "\n",
       "     What is the Pin Code of where you shop online from?  \\\n",
       "0                                               110009     \n",
       "1                                               110030     \n",
       "2                                               201308     \n",
       "3                                               132001     \n",
       "4                                               530068     \n",
       "..                                                 ...     \n",
       "264                                             173212     \n",
       "265                                             201008     \n",
       "266                                             560010     \n",
       "267                                             173229     \n",
       "268                                             201009     \n",
       "\n",
       "     Since How Long You are Shopping Online ?  \\\n",
       "0                                           5   \n",
       "1                                           5   \n",
       "2                                           4   \n",
       "3                                           4   \n",
       "4                                           3   \n",
       "..                                        ...   \n",
       "264                                         2   \n",
       "265                                         2   \n",
       "266                                         3   \n",
       "267                                         3   \n",
       "268                                         3   \n",
       "\n",
       "     How many times you have made an online purchase in the past 1 year?  \\\n",
       "0                                                    4                     \n",
       "1                                                    5                     \n",
       "2                                                    5                     \n",
       "3                                                    1                     \n",
       "4                                                    2                     \n",
       "..                                                 ...                     \n",
       "264                                                  1                     \n",
       "265                                                  4                     \n",
       "266                                                  1                     \n",
       "267                                                  1                     \n",
       "268                                                  4                     \n",
       "\n",
       "     How do you access the internet while shopping on-line?  \\\n",
       "0                                                    4        \n",
       "1                                                    2        \n",
       "2                                                    3        \n",
       "3                                                    3        \n",
       "4                                                    2        \n",
       "..                                                 ...        \n",
       "264                                                  3        \n",
       "265                                                  3        \n",
       "266                                                  3        \n",
       "267                                                  2        \n",
       "268                                                  3        \n",
       "\n",
       "     Which device do you use to access the online shopping?  \\\n",
       "0                                                    3        \n",
       "1                                                    1        \n",
       "2                                                    1        \n",
       "3                                                    1        \n",
       "4                                                    1        \n",
       "..                                                 ...        \n",
       "264                                                  1        \n",
       "265                                                  1        \n",
       "266                                                  2        \n",
       "267                                                  1        \n",
       "268                                                  1        \n",
       "\n",
       "     What is the screen size of your mobile device?  \\\n",
       "0                                                 5   \n",
       "1                                                 2   \n",
       "2                                                 4   \n",
       "3                                                 4   \n",
       "4                                                 2   \n",
       "..                                              ...   \n",
       "264                                               4   \n",
       "265                                               5   \n",
       "266                                               5   \n",
       "267                                               4   \n",
       "268                                               4   \n",
       "\n",
       "     What is the operating system (OS) of your device?  ...  \\\n",
       "0                                                    1  ...   \n",
       "1                                                    3  ...   \n",
       "2                                                    2  ...   \n",
       "3                                                    3  ...   \n",
       "4                                                    3  ...   \n",
       "..                                                 ...  ...   \n",
       "264                                                  2  ...   \n",
       "265                                                  2  ...   \n",
       "266                                                  1  ...   \n",
       "267                                                  2  ...   \n",
       "268                                                  2  ...   \n",
       "\n",
       "     Longer time to get logged in (promotion, sales period)  \\\n",
       "0                                            Amazon.in        \n",
       "1                              Amazon.in, Flipkart.com        \n",
       "2                                           Myntra.com        \n",
       "3                                         Snapdeal.com        \n",
       "4                              Flipkart.com, Paytm.com        \n",
       "..                                                 ...        \n",
       "264                                          Amazon.in        \n",
       "265                                       Flipkart.com        \n",
       "266                                          Amazon.in        \n",
       "267                                          Amazon.in        \n",
       "268                                          Amazon.in        \n",
       "\n",
       "     Longer time in displaying graphics and photos (promotion, sales period)  \\\n",
       "0                                            Amazon.in                         \n",
       "1                                           Myntra.com                         \n",
       "2                                           Myntra.com                         \n",
       "3                             Myntra.com, Snapdeal.com                         \n",
       "4                                            Paytm.com                         \n",
       "..                                                 ...                         \n",
       "264                                          Amazon.in                         \n",
       "265                                       Flipkart.com                         \n",
       "266                                       Snapdeal.com                         \n",
       "267                Amazon.in, Myntra.com, Snapdeal.com                         \n",
       "268                                          Amazon.in                         \n",
       "\n",
       "     Late declaration of price (promotion, sales period)  \\\n",
       "0                                         Flipkart.com     \n",
       "1                                         snapdeal.com     \n",
       "2                                           Myntra.com     \n",
       "3                                           Myntra.com     \n",
       "4                                            Paytm.com     \n",
       "..                                                 ...     \n",
       "264                                          Amazon.in     \n",
       "265                                       Flipkart.com     \n",
       "266                                          Amazon.in     \n",
       "267                                          Amazon.in     \n",
       "268                                          Amazon.in     \n",
       "\n",
       "     Longer page loading time (promotion, sales period)  \\\n",
       "0                                         Flipkart.com    \n",
       "1                                         Snapdeal.com    \n",
       "2                                           Myntra.com    \n",
       "3                                            Paytm.com    \n",
       "4                                            Paytm.com    \n",
       "..                                                 ...    \n",
       "264                                          Amazon.in    \n",
       "265                                       Flipkart.com    \n",
       "266                                       Snapdeal.com    \n",
       "267                            Amazon.in, Snapdeal.com    \n",
       "268                                          Amazon.in    \n",
       "\n",
       "     Limited mode of payment on most products (promotion, sales period)  \\\n",
       "0                                            Amazon.in                    \n",
       "1                                         Snapdeal.com                    \n",
       "2                                            Amazon.in                    \n",
       "3                                            Paytm.com                    \n",
       "4                                         Snapdeal.com                    \n",
       "..                                                 ...                    \n",
       "264                                          Amazon.in                    \n",
       "265                                       Flipkart.com                    \n",
       "266                                       Snapdeal.com                    \n",
       "267                                          Amazon.in                    \n",
       "268                                          Amazon.in                    \n",
       "\n",
       "     Longer delivery period  Change in website/Application design  \\\n",
       "0                 Paytm.com                          Flipkart.com   \n",
       "1              Snapdeal.com                             Amazon.in   \n",
       "2                 Paytm.com                             Paytm.com   \n",
       "3                 Paytm.com               Amazon.in, Flipkart.com   \n",
       "4                 Paytm.com                             Amazon.in   \n",
       "..                      ...                                   ...   \n",
       "264               Amazon.in                             Amazon.in   \n",
       "265            Flipkart.com                          Flipkart.com   \n",
       "266            Snapdeal.com                          Snapdeal.com   \n",
       "267               Amazon.in                             Amazon.in   \n",
       "268               Amazon.in                             Amazon.in   \n",
       "\n",
       "     Frequent disruption when moving from one page to another  \\\n",
       "0                                            Amazon.in          \n",
       "1                                           Myntra.com          \n",
       "2                                            Paytm.com          \n",
       "3                              Amazon.in, Flipkart.com          \n",
       "4                                         Snapdeal.com          \n",
       "..                                                 ...          \n",
       "264                                          Amazon.in          \n",
       "265                                       Flipkart.com          \n",
       "266                                       Snapdeal.com          \n",
       "267                           Myntra.com, Snapdeal.com          \n",
       "268                                          Amazon.in          \n",
       "\n",
       "      Website is as efficient as before  \\\n",
       "0                             Amazon.in   \n",
       "1               Amazon.in, Flipkart.com   \n",
       "2                             Amazon.in   \n",
       "3    Amazon.in, Flipkart.com, Paytm.com   \n",
       "4                             Paytm.com   \n",
       "..                                  ...   \n",
       "264                           Amazon.in   \n",
       "265                        Flipkart.com   \n",
       "266                           Amazon.in   \n",
       "267            Myntra.com, Snapdeal.com   \n",
       "268                           Amazon.in   \n",
       "\n",
       "     Which of the Indian online retailer would you recommend to a friend?  \n",
       "0                                         Flipkart.com                     \n",
       "1                                Amazon.in, Myntra.com                     \n",
       "2                     Amazon.in, Paytm.com, Myntra.com                     \n",
       "3                              Amazon.in, Flipkart.com                     \n",
       "4                                Amazon.in, Myntra.com                     \n",
       "..                                                 ...                     \n",
       "264                                          Amazon.in                     \n",
       "265                                       Flipkart.com                     \n",
       "266                                          Amazon.in                     \n",
       "267                                          Amazon.in                     \n",
       "268                                          Amazon.in                     \n",
       "\n",
       "[269 rows x 71 columns]"
      ]
     },
     "execution_count": 3,
     "metadata": {},
     "output_type": "execute_result"
    }
   ],
   "source": [
    "df"
   ]
  },
  {
   "cell_type": "code",
   "execution_count": 4,
   "metadata": {},
   "outputs": [
    {
     "data": {
      "text/html": [
       "<div>\n",
       "<style scoped>\n",
       "    .dataframe tbody tr th:only-of-type {\n",
       "        vertical-align: middle;\n",
       "    }\n",
       "\n",
       "    .dataframe tbody tr th {\n",
       "        vertical-align: top;\n",
       "    }\n",
       "\n",
       "    .dataframe thead th {\n",
       "        text-align: right;\n",
       "    }\n",
       "</style>\n",
       "<table border=\"1\" class=\"dataframe\">\n",
       "  <thead>\n",
       "    <tr style=\"text-align: right;\">\n",
       "      <th></th>\n",
       "      <th>Gender of respondent</th>\n",
       "      <th>How old are you?</th>\n",
       "      <th>What is the Pin Code of where you shop online from?</th>\n",
       "      <th>Since How Long You are Shopping Online ?</th>\n",
       "      <th>How many times you have made an online purchase in the past 1 year?</th>\n",
       "      <th>How do you access the internet while shopping on-line?</th>\n",
       "      <th>Which device do you use to access the online shopping?</th>\n",
       "      <th>What is the screen size of your mobile device?</th>\n",
       "      <th>What is the operating system (OS) of your device?</th>\n",
       "      <th>What browser do you run on your device to access the website?</th>\n",
       "      <th>...</th>\n",
       "      <th>User satisfaction cannot exist without trust</th>\n",
       "      <th>Offering a wide variety of listed product in several category</th>\n",
       "      <th>Provision of complete and relevant product information</th>\n",
       "      <th>Monetary savings</th>\n",
       "      <th>The Convenience of patronizing the online retailer</th>\n",
       "      <th>Shopping on the website gives you the sense of adventure</th>\n",
       "      <th>Shopping on your preferred e-tailer enhances your social status</th>\n",
       "      <th>You feel gratification shopping on your favorite e-tailer</th>\n",
       "      <th>Shopping on the website helps you fulfill certain roles</th>\n",
       "      <th>Getting value for money spent</th>\n",
       "    </tr>\n",
       "  </thead>\n",
       "  <tbody>\n",
       "    <tr>\n",
       "      <th>count</th>\n",
       "      <td>269.000000</td>\n",
       "      <td>269.000000</td>\n",
       "      <td>269.000000</td>\n",
       "      <td>269.000000</td>\n",
       "      <td>269.000000</td>\n",
       "      <td>269.000000</td>\n",
       "      <td>269.000000</td>\n",
       "      <td>269.000000</td>\n",
       "      <td>269.000000</td>\n",
       "      <td>269.000000</td>\n",
       "      <td>...</td>\n",
       "      <td>269.000000</td>\n",
       "      <td>269.000000</td>\n",
       "      <td>269.000000</td>\n",
       "      <td>269.000000</td>\n",
       "      <td>269.000000</td>\n",
       "      <td>269.000000</td>\n",
       "      <td>269.000000</td>\n",
       "      <td>269.000000</td>\n",
       "      <td>269.000000</td>\n",
       "      <td>269.000000</td>\n",
       "    </tr>\n",
       "    <tr>\n",
       "      <th>mean</th>\n",
       "      <td>0.669145</td>\n",
       "      <td>2.959108</td>\n",
       "      <td>220465.747212</td>\n",
       "      <td>3.524164</td>\n",
       "      <td>2.672862</td>\n",
       "      <td>3.260223</td>\n",
       "      <td>1.676580</td>\n",
       "      <td>4.282528</td>\n",
       "      <td>1.776952</td>\n",
       "      <td>1.275093</td>\n",
       "      <td>...</td>\n",
       "      <td>4.182156</td>\n",
       "      <td>4.148699</td>\n",
       "      <td>4.349442</td>\n",
       "      <td>4.263941</td>\n",
       "      <td>3.914498</td>\n",
       "      <td>3.553903</td>\n",
       "      <td>3.223048</td>\n",
       "      <td>3.501859</td>\n",
       "      <td>3.282528</td>\n",
       "      <td>4.163569</td>\n",
       "    </tr>\n",
       "    <tr>\n",
       "      <th>std</th>\n",
       "      <td>0.471398</td>\n",
       "      <td>1.066012</td>\n",
       "      <td>140524.341051</td>\n",
       "      <td>1.436586</td>\n",
       "      <td>1.651788</td>\n",
       "      <td>1.135887</td>\n",
       "      <td>0.843904</td>\n",
       "      <td>0.923426</td>\n",
       "      <td>0.797892</td>\n",
       "      <td>0.645429</td>\n",
       "      <td>...</td>\n",
       "      <td>1.072162</td>\n",
       "      <td>0.842110</td>\n",
       "      <td>0.755953</td>\n",
       "      <td>1.000485</td>\n",
       "      <td>0.693879</td>\n",
       "      <td>1.065869</td>\n",
       "      <td>1.219581</td>\n",
       "      <td>1.141564</td>\n",
       "      <td>1.178995</td>\n",
       "      <td>0.648773</td>\n",
       "    </tr>\n",
       "    <tr>\n",
       "      <th>min</th>\n",
       "      <td>0.000000</td>\n",
       "      <td>1.000000</td>\n",
       "      <td>110008.000000</td>\n",
       "      <td>1.000000</td>\n",
       "      <td>1.000000</td>\n",
       "      <td>2.000000</td>\n",
       "      <td>1.000000</td>\n",
       "      <td>2.000000</td>\n",
       "      <td>1.000000</td>\n",
       "      <td>1.000000</td>\n",
       "      <td>...</td>\n",
       "      <td>1.000000</td>\n",
       "      <td>2.000000</td>\n",
       "      <td>2.000000</td>\n",
       "      <td>2.000000</td>\n",
       "      <td>3.000000</td>\n",
       "      <td>1.000000</td>\n",
       "      <td>1.000000</td>\n",
       "      <td>1.000000</td>\n",
       "      <td>1.000000</td>\n",
       "      <td>3.000000</td>\n",
       "    </tr>\n",
       "    <tr>\n",
       "      <th>25%</th>\n",
       "      <td>0.000000</td>\n",
       "      <td>2.000000</td>\n",
       "      <td>122018.000000</td>\n",
       "      <td>3.000000</td>\n",
       "      <td>1.000000</td>\n",
       "      <td>2.000000</td>\n",
       "      <td>1.000000</td>\n",
       "      <td>4.000000</td>\n",
       "      <td>1.000000</td>\n",
       "      <td>1.000000</td>\n",
       "      <td>...</td>\n",
       "      <td>4.000000</td>\n",
       "      <td>4.000000</td>\n",
       "      <td>4.000000</td>\n",
       "      <td>4.000000</td>\n",
       "      <td>3.000000</td>\n",
       "      <td>3.000000</td>\n",
       "      <td>3.000000</td>\n",
       "      <td>3.000000</td>\n",
       "      <td>3.000000</td>\n",
       "      <td>4.000000</td>\n",
       "    </tr>\n",
       "    <tr>\n",
       "      <th>50%</th>\n",
       "      <td>1.000000</td>\n",
       "      <td>3.000000</td>\n",
       "      <td>201303.000000</td>\n",
       "      <td>4.000000</td>\n",
       "      <td>2.000000</td>\n",
       "      <td>3.000000</td>\n",
       "      <td>1.000000</td>\n",
       "      <td>4.000000</td>\n",
       "      <td>2.000000</td>\n",
       "      <td>1.000000</td>\n",
       "      <td>...</td>\n",
       "      <td>4.000000</td>\n",
       "      <td>4.000000</td>\n",
       "      <td>5.000000</td>\n",
       "      <td>5.000000</td>\n",
       "      <td>4.000000</td>\n",
       "      <td>4.000000</td>\n",
       "      <td>3.000000</td>\n",
       "      <td>3.000000</td>\n",
       "      <td>3.000000</td>\n",
       "      <td>4.000000</td>\n",
       "    </tr>\n",
       "    <tr>\n",
       "      <th>75%</th>\n",
       "      <td>1.000000</td>\n",
       "      <td>4.000000</td>\n",
       "      <td>201310.000000</td>\n",
       "      <td>5.000000</td>\n",
       "      <td>4.000000</td>\n",
       "      <td>5.000000</td>\n",
       "      <td>2.000000</td>\n",
       "      <td>5.000000</td>\n",
       "      <td>2.000000</td>\n",
       "      <td>1.000000</td>\n",
       "      <td>...</td>\n",
       "      <td>5.000000</td>\n",
       "      <td>5.000000</td>\n",
       "      <td>5.000000</td>\n",
       "      <td>5.000000</td>\n",
       "      <td>4.000000</td>\n",
       "      <td>4.000000</td>\n",
       "      <td>4.000000</td>\n",
       "      <td>4.000000</td>\n",
       "      <td>4.000000</td>\n",
       "      <td>5.000000</td>\n",
       "    </tr>\n",
       "    <tr>\n",
       "      <th>max</th>\n",
       "      <td>1.000000</td>\n",
       "      <td>5.000000</td>\n",
       "      <td>560037.000000</td>\n",
       "      <td>5.000000</td>\n",
       "      <td>5.000000</td>\n",
       "      <td>5.000000</td>\n",
       "      <td>4.000000</td>\n",
       "      <td>5.000000</td>\n",
       "      <td>3.000000</td>\n",
       "      <td>4.000000</td>\n",
       "      <td>...</td>\n",
       "      <td>5.000000</td>\n",
       "      <td>5.000000</td>\n",
       "      <td>5.000000</td>\n",
       "      <td>5.000000</td>\n",
       "      <td>5.000000</td>\n",
       "      <td>5.000000</td>\n",
       "      <td>5.000000</td>\n",
       "      <td>5.000000</td>\n",
       "      <td>5.000000</td>\n",
       "      <td>5.000000</td>\n",
       "    </tr>\n",
       "  </tbody>\n",
       "</table>\n",
       "<p>8 rows × 46 columns</p>\n",
       "</div>"
      ],
      "text/plain": [
       "       Gender of respondent  How old are you?  \\\n",
       "count            269.000000        269.000000   \n",
       "mean               0.669145          2.959108   \n",
       "std                0.471398          1.066012   \n",
       "min                0.000000          1.000000   \n",
       "25%                0.000000          2.000000   \n",
       "50%                1.000000          3.000000   \n",
       "75%                1.000000          4.000000   \n",
       "max                1.000000          5.000000   \n",
       "\n",
       "       What is the Pin Code of where you shop online from?  \\\n",
       "count                                         269.000000     \n",
       "mean                                       220465.747212     \n",
       "std                                        140524.341051     \n",
       "min                                        110008.000000     \n",
       "25%                                        122018.000000     \n",
       "50%                                        201303.000000     \n",
       "75%                                        201310.000000     \n",
       "max                                        560037.000000     \n",
       "\n",
       "       Since How Long You are Shopping Online ?  \\\n",
       "count                                269.000000   \n",
       "mean                                   3.524164   \n",
       "std                                    1.436586   \n",
       "min                                    1.000000   \n",
       "25%                                    3.000000   \n",
       "50%                                    4.000000   \n",
       "75%                                    5.000000   \n",
       "max                                    5.000000   \n",
       "\n",
       "       How many times you have made an online purchase in the past 1 year?  \\\n",
       "count                                         269.000000                     \n",
       "mean                                            2.672862                     \n",
       "std                                             1.651788                     \n",
       "min                                             1.000000                     \n",
       "25%                                             1.000000                     \n",
       "50%                                             2.000000                     \n",
       "75%                                             4.000000                     \n",
       "max                                             5.000000                     \n",
       "\n",
       "       How do you access the internet while shopping on-line?  \\\n",
       "count                                         269.000000        \n",
       "mean                                            3.260223        \n",
       "std                                             1.135887        \n",
       "min                                             2.000000        \n",
       "25%                                             2.000000        \n",
       "50%                                             3.000000        \n",
       "75%                                             5.000000        \n",
       "max                                             5.000000        \n",
       "\n",
       "       Which device do you use to access the online shopping?  \\\n",
       "count                                         269.000000        \n",
       "mean                                            1.676580        \n",
       "std                                             0.843904        \n",
       "min                                             1.000000        \n",
       "25%                                             1.000000        \n",
       "50%                                             1.000000        \n",
       "75%                                             2.000000        \n",
       "max                                             4.000000        \n",
       "\n",
       "       What is the screen size of your mobile device?  \\\n",
       "count                                      269.000000   \n",
       "mean                                         4.282528   \n",
       "std                                          0.923426   \n",
       "min                                          2.000000   \n",
       "25%                                          4.000000   \n",
       "50%                                          4.000000   \n",
       "75%                                          5.000000   \n",
       "max                                          5.000000   \n",
       "\n",
       "       What is the operating system (OS) of your device?  \\\n",
       "count                                         269.000000   \n",
       "mean                                            1.776952   \n",
       "std                                             0.797892   \n",
       "min                                             1.000000   \n",
       "25%                                             1.000000   \n",
       "50%                                             2.000000   \n",
       "75%                                             2.000000   \n",
       "max                                             3.000000   \n",
       "\n",
       "       What browser do you run on your device to access the website?  ...  \\\n",
       "count                                         269.000000              ...   \n",
       "mean                                            1.275093              ...   \n",
       "std                                             0.645429              ...   \n",
       "min                                             1.000000              ...   \n",
       "25%                                             1.000000              ...   \n",
       "50%                                             1.000000              ...   \n",
       "75%                                             1.000000              ...   \n",
       "max                                             4.000000              ...   \n",
       "\n",
       "       User satisfaction cannot exist without trust  \\\n",
       "count                                    269.000000   \n",
       "mean                                       4.182156   \n",
       "std                                        1.072162   \n",
       "min                                        1.000000   \n",
       "25%                                        4.000000   \n",
       "50%                                        4.000000   \n",
       "75%                                        5.000000   \n",
       "max                                        5.000000   \n",
       "\n",
       "       Offering a wide variety of listed product in several category  \\\n",
       "count                                         269.000000               \n",
       "mean                                            4.148699               \n",
       "std                                             0.842110               \n",
       "min                                             2.000000               \n",
       "25%                                             4.000000               \n",
       "50%                                             4.000000               \n",
       "75%                                             5.000000               \n",
       "max                                             5.000000               \n",
       "\n",
       "       Provision of complete and relevant product information  \\\n",
       "count                                         269.000000        \n",
       "mean                                            4.349442        \n",
       "std                                             0.755953        \n",
       "min                                             2.000000        \n",
       "25%                                             4.000000        \n",
       "50%                                             5.000000        \n",
       "75%                                             5.000000        \n",
       "max                                             5.000000        \n",
       "\n",
       "       Monetary savings  The Convenience of patronizing the online retailer  \\\n",
       "count        269.000000                                         269.000000    \n",
       "mean           4.263941                                           3.914498    \n",
       "std            1.000485                                           0.693879    \n",
       "min            2.000000                                           3.000000    \n",
       "25%            4.000000                                           3.000000    \n",
       "50%            5.000000                                           4.000000    \n",
       "75%            5.000000                                           4.000000    \n",
       "max            5.000000                                           5.000000    \n",
       "\n",
       "       Shopping on the website gives you the sense of adventure  \\\n",
       "count                                         269.000000          \n",
       "mean                                            3.553903          \n",
       "std                                             1.065869          \n",
       "min                                             1.000000          \n",
       "25%                                             3.000000          \n",
       "50%                                             4.000000          \n",
       "75%                                             4.000000          \n",
       "max                                             5.000000          \n",
       "\n",
       "       Shopping on your preferred e-tailer enhances your social status  \\\n",
       "count                                         269.000000                 \n",
       "mean                                            3.223048                 \n",
       "std                                             1.219581                 \n",
       "min                                             1.000000                 \n",
       "25%                                             3.000000                 \n",
       "50%                                             3.000000                 \n",
       "75%                                             4.000000                 \n",
       "max                                             5.000000                 \n",
       "\n",
       "       You feel gratification shopping on your favorite e-tailer  \\\n",
       "count                                         269.000000           \n",
       "mean                                            3.501859           \n",
       "std                                             1.141564           \n",
       "min                                             1.000000           \n",
       "25%                                             3.000000           \n",
       "50%                                             3.000000           \n",
       "75%                                             4.000000           \n",
       "max                                             5.000000           \n",
       "\n",
       "       Shopping on the website helps you fulfill certain roles  \\\n",
       "count                                         269.000000         \n",
       "mean                                            3.282528         \n",
       "std                                             1.178995         \n",
       "min                                             1.000000         \n",
       "25%                                             3.000000         \n",
       "50%                                             3.000000         \n",
       "75%                                             4.000000         \n",
       "max                                             5.000000         \n",
       "\n",
       "       Getting value for money spent  \n",
       "count                     269.000000  \n",
       "mean                        4.163569  \n",
       "std                         0.648773  \n",
       "min                         3.000000  \n",
       "25%                         4.000000  \n",
       "50%                         4.000000  \n",
       "75%                         5.000000  \n",
       "max                         5.000000  \n",
       "\n",
       "[8 rows x 46 columns]"
      ]
     },
     "execution_count": 4,
     "metadata": {},
     "output_type": "execute_result"
    }
   ],
   "source": [
    "df.describe()"
   ]
  },
  {
   "cell_type": "code",
   "execution_count": 5,
   "metadata": {},
   "outputs": [
    {
     "data": {
      "text/plain": [
       "<AxesSubplot:ylabel='Frequency'>"
      ]
     },
     "execution_count": 5,
     "metadata": {},
     "output_type": "execute_result"
    },
    {
     "data": {
      "image/png": "[encoded data removed]",
      "text/plain": [
       "<Figure size 432x288 with 1 Axes>"
      ]
     },
     "metadata": {
      "needs_background": "light"
     },
     "output_type": "display_data"
    }
   ],
   "source": [
    "df['Gender of respondent'].plot.hist()"
   ]
  },
  {
   "cell_type": "code",
   "execution_count": 6,
   "metadata": {},
   "outputs": [
    {
     "data": {
      "text/plain": [
       "<AxesSubplot:ylabel='Frequency'>"
      ]
     },
     "execution_count": 6,
     "metadata": {},
     "output_type": "execute_result"
    },
    {
     "data": {
      "image/png": "[encoded data removed]",
      "text/plain": [
       "<Figure size 432x288 with 1 Axes>"
      ]
     },
     "metadata": {
      "needs_background": "light"
     },
     "output_type": "display_data"
    }
   ],
   "source": [
    "df['How old are you?'].plot.hist()"
   ]
  },
  {
   "cell_type": "code",
   "execution_count": 7,
   "metadata": {},
   "outputs": [],
   "source": [
    "#From the above analysis, it has been observed that around 70% of the customers are women \n",
    "#85% of the customers are in the age range 20-50"
   ]
  },
  {
   "cell_type": "code",
   "execution_count": 8,
   "metadata": {},
   "outputs": [
    {
     "data": {
      "text/plain": [
       "<AxesSubplot:>"
      ]
     },
     "execution_count": 8,
     "metadata": {},
     "output_type": "execute_result"
    },
    {
     "data": {
      "image/png": "[encoded data removed]",
      "text/plain": [
       "<Figure size 432x288 with 1 Axes>"
      ]
     },
     "metadata": {
      "needs_background": "light"
     },
     "output_type": "display_data"
    }
   ],
   "source": [
    "df['Which city do you shop online from?'].value_counts()[:20].plot(kind='barh')"
   ]
  },
  {
   "cell_type": "code",
   "execution_count": 9,
   "metadata": {},
   "outputs": [],
   "source": [
    "#Majority of the orders are made from Metro cities (Delhi, Noida and Bangalore)"
   ]
  },
  {
   "cell_type": "code",
   "execution_count": 10,
   "metadata": {},
   "outputs": [
    {
     "data": {
      "text/plain": [
       "<AxesSubplot:>"
      ]
     },
     "execution_count": 10,
     "metadata": {},
     "output_type": "execute_result"
    },
    {
     "data": {
      "image/png": "[encoded data removed]",
      "text/plain": [
       "<Figure size 432x288 with 1 Axes>"
      ]
     },
     "metadata": {
      "needs_background": "light"
     },
     "output_type": "display_data"
    }
   ],
   "source": [
    "df['Since How Long You are Shopping Online ?'].value_counts().plot.barh()"
   ]
  },
  {
   "cell_type": "code",
   "execution_count": 11,
   "metadata": {},
   "outputs": [],
   "source": [
    "#Most number of customers have beebn shopping for 3 years or more"
   ]
  },
  {
   "cell_type": "code",
   "execution_count": 12,
   "metadata": {},
   "outputs": [
    {
     "data": {
      "text/plain": [
       "<AxesSubplot:>"
      ]
     },
     "execution_count": 12,
     "metadata": {},
     "output_type": "execute_result"
    },
    {
     "data": {
      "image/png": "[encoded data removed]",
      "text/plain": [
       "<Figure size 432x288 with 1 Axes>"
      ]
     },
     "metadata": {
      "needs_background": "light"
     },
     "output_type": "display_data"
    }
   ],
   "source": [
    "df['How many times you have made an online purchase in the past 1 year?'].value_counts().plot.barh()"
   ]
  },
  {
   "cell_type": "code",
   "execution_count": 13,
   "metadata": {},
   "outputs": [],
   "source": [
    "#Most customers fall under the category of less than 10 orders per year, around the same number fall under the category where no of orders is more than 30\n",
    "#The number of customers who made more than 30 would be our area of interest are they are loyal customers / likely to purchase more"
   ]
  },
  {
   "cell_type": "code",
   "execution_count": 14,
   "metadata": {},
   "outputs": [],
   "source": [
    "loyal=df[df['How many times you have made an online purchase in the past 1 year?']>=3]"
   ]
  },
  {
   "cell_type": "code",
   "execution_count": 15,
   "metadata": {},
   "outputs": [
    {
     "data": {
      "text/html": [
       "<div>\n",
       "<style scoped>\n",
       "    .dataframe tbody tr th:only-of-type {\n",
       "        vertical-align: middle;\n",
       "    }\n",
       "\n",
       "    .dataframe tbody tr th {\n",
       "        vertical-align: top;\n",
       "    }\n",
       "\n",
       "    .dataframe thead th {\n",
       "        text-align: right;\n",
       "    }\n",
       "</style>\n",
       "<table border=\"1\" class=\"dataframe\">\n",
       "  <thead>\n",
       "    <tr style=\"text-align: right;\">\n",
       "      <th></th>\n",
       "      <th>Gender of respondent</th>\n",
       "      <th>How old are you?</th>\n",
       "      <th>Which city do you shop online from?</th>\n",
       "      <th>What is the Pin Code of where you shop online from?</th>\n",
       "      <th>Since How Long You are Shopping Online ?</th>\n",
       "      <th>How many times you have made an online purchase in the past 1 year?</th>\n",
       "      <th>How do you access the internet while shopping on-line?</th>\n",
       "      <th>Which device do you use to access the online shopping?</th>\n",
       "      <th>What is the screen size of your mobile device?</th>\n",
       "      <th>What is the operating system (OS) of your device?</th>\n",
       "      <th>...</th>\n",
       "      <th>Longer time to get logged in (promotion, sales period)</th>\n",
       "      <th>Longer time in displaying graphics and photos (promotion, sales period)</th>\n",
       "      <th>Late declaration of price (promotion, sales period)</th>\n",
       "      <th>Longer page loading time (promotion, sales period)</th>\n",
       "      <th>Limited mode of payment on most products (promotion, sales period)</th>\n",
       "      <th>Longer delivery period</th>\n",
       "      <th>Change in website/Application design</th>\n",
       "      <th>Frequent disruption when moving from one page to another</th>\n",
       "      <th>Website is as efficient as before</th>\n",
       "      <th>Which of the Indian online retailer would you recommend to a friend?</th>\n",
       "    </tr>\n",
       "  </thead>\n",
       "  <tbody>\n",
       "    <tr>\n",
       "      <th>0</th>\n",
       "      <td>0</td>\n",
       "      <td>3</td>\n",
       "      <td>Delhi</td>\n",
       "      <td>110009</td>\n",
       "      <td>5</td>\n",
       "      <td>4</td>\n",
       "      <td>4</td>\n",
       "      <td>3</td>\n",
       "      <td>5</td>\n",
       "      <td>1</td>\n",
       "      <td>...</td>\n",
       "      <td>Amazon.in</td>\n",
       "      <td>Amazon.in</td>\n",
       "      <td>Flipkart.com</td>\n",
       "      <td>Flipkart.com</td>\n",
       "      <td>Amazon.in</td>\n",
       "      <td>Paytm.com</td>\n",
       "      <td>Flipkart.com</td>\n",
       "      <td>Amazon.in</td>\n",
       "      <td>Amazon.in</td>\n",
       "      <td>Flipkart.com</td>\n",
       "    </tr>\n",
       "    <tr>\n",
       "      <th>1</th>\n",
       "      <td>1</td>\n",
       "      <td>2</td>\n",
       "      <td>Delhi</td>\n",
       "      <td>110030</td>\n",
       "      <td>5</td>\n",
       "      <td>5</td>\n",
       "      <td>2</td>\n",
       "      <td>1</td>\n",
       "      <td>2</td>\n",
       "      <td>3</td>\n",
       "      <td>...</td>\n",
       "      <td>Amazon.in, Flipkart.com</td>\n",
       "      <td>Myntra.com</td>\n",
       "      <td>snapdeal.com</td>\n",
       "      <td>Snapdeal.com</td>\n",
       "      <td>Snapdeal.com</td>\n",
       "      <td>Snapdeal.com</td>\n",
       "      <td>Amazon.in</td>\n",
       "      <td>Myntra.com</td>\n",
       "      <td>Amazon.in, Flipkart.com</td>\n",
       "      <td>Amazon.in, Myntra.com</td>\n",
       "    </tr>\n",
       "    <tr>\n",
       "      <th>2</th>\n",
       "      <td>1</td>\n",
       "      <td>2</td>\n",
       "      <td>Greater Noida</td>\n",
       "      <td>201308</td>\n",
       "      <td>4</td>\n",
       "      <td>5</td>\n",
       "      <td>3</td>\n",
       "      <td>1</td>\n",
       "      <td>4</td>\n",
       "      <td>2</td>\n",
       "      <td>...</td>\n",
       "      <td>Myntra.com</td>\n",
       "      <td>Myntra.com</td>\n",
       "      <td>Myntra.com</td>\n",
       "      <td>Myntra.com</td>\n",
       "      <td>Amazon.in</td>\n",
       "      <td>Paytm.com</td>\n",
       "      <td>Paytm.com</td>\n",
       "      <td>Paytm.com</td>\n",
       "      <td>Amazon.in</td>\n",
       "      <td>Amazon.in, Paytm.com, Myntra.com</td>\n",
       "    </tr>\n",
       "    <tr>\n",
       "      <th>5</th>\n",
       "      <td>1</td>\n",
       "      <td>3</td>\n",
       "      <td>Noida</td>\n",
       "      <td>201308</td>\n",
       "      <td>5</td>\n",
       "      <td>5</td>\n",
       "      <td>2</td>\n",
       "      <td>1</td>\n",
       "      <td>4</td>\n",
       "      <td>2</td>\n",
       "      <td>...</td>\n",
       "      <td>Flipkart.com, Paytm.com, Snapdeal.com</td>\n",
       "      <td>Amazon.in, Paytm.com</td>\n",
       "      <td>Amazon.in, Paytm.com</td>\n",
       "      <td>Amazon.in, Paytm.com</td>\n",
       "      <td>Amazon.in, Paytm.com</td>\n",
       "      <td>Flipkart.com</td>\n",
       "      <td>Paytm.com</td>\n",
       "      <td>Flipkart.com</td>\n",
       "      <td>Amazon.in</td>\n",
       "      <td>Amazon.in, Paytm.com</td>\n",
       "    </tr>\n",
       "    <tr>\n",
       "      <th>6</th>\n",
       "      <td>0</td>\n",
       "      <td>4</td>\n",
       "      <td>Delhi</td>\n",
       "      <td>110011</td>\n",
       "      <td>5</td>\n",
       "      <td>4</td>\n",
       "      <td>2</td>\n",
       "      <td>4</td>\n",
       "      <td>5</td>\n",
       "      <td>2</td>\n",
       "      <td>...</td>\n",
       "      <td>Amazon.in, Flipkart.com, Snapdeal.com</td>\n",
       "      <td>Amazon.in</td>\n",
       "      <td>Myntra.com</td>\n",
       "      <td>Myntra.com</td>\n",
       "      <td>Flipkart.com</td>\n",
       "      <td>Snapdeal.com</td>\n",
       "      <td>Myntra.com</td>\n",
       "      <td>Myntra.com</td>\n",
       "      <td>Snapdeal.com</td>\n",
       "      <td>Flipkart.com, Paytm.com, Myntra.com, snapdeal.com</td>\n",
       "    </tr>\n",
       "    <tr>\n",
       "      <th>...</th>\n",
       "      <td>...</td>\n",
       "      <td>...</td>\n",
       "      <td>...</td>\n",
       "      <td>...</td>\n",
       "      <td>...</td>\n",
       "      <td>...</td>\n",
       "      <td>...</td>\n",
       "      <td>...</td>\n",
       "      <td>...</td>\n",
       "      <td>...</td>\n",
       "      <td>...</td>\n",
       "      <td>...</td>\n",
       "      <td>...</td>\n",
       "      <td>...</td>\n",
       "      <td>...</td>\n",
       "      <td>...</td>\n",
       "      <td>...</td>\n",
       "      <td>...</td>\n",
       "      <td>...</td>\n",
       "      <td>...</td>\n",
       "      <td>...</td>\n",
       "    </tr>\n",
       "    <tr>\n",
       "      <th>258</th>\n",
       "      <td>1</td>\n",
       "      <td>2</td>\n",
       "      <td>Delhi</td>\n",
       "      <td>110030</td>\n",
       "      <td>5</td>\n",
       "      <td>5</td>\n",
       "      <td>2</td>\n",
       "      <td>1</td>\n",
       "      <td>2</td>\n",
       "      <td>3</td>\n",
       "      <td>...</td>\n",
       "      <td>Amazon.in, Flipkart.com</td>\n",
       "      <td>Myntra.com</td>\n",
       "      <td>snapdeal.com</td>\n",
       "      <td>Snapdeal.com</td>\n",
       "      <td>Snapdeal.com</td>\n",
       "      <td>Snapdeal.com</td>\n",
       "      <td>Amazon.in</td>\n",
       "      <td>Myntra.com</td>\n",
       "      <td>Amazon.in, Flipkart.com</td>\n",
       "      <td>Amazon.in, Myntra.com</td>\n",
       "    </tr>\n",
       "    <tr>\n",
       "      <th>260</th>\n",
       "      <td>1</td>\n",
       "      <td>3</td>\n",
       "      <td>Noida</td>\n",
       "      <td>201308</td>\n",
       "      <td>5</td>\n",
       "      <td>5</td>\n",
       "      <td>2</td>\n",
       "      <td>1</td>\n",
       "      <td>4</td>\n",
       "      <td>2</td>\n",
       "      <td>...</td>\n",
       "      <td>Flipkart.com, Paytm.com, Snapdeal.com</td>\n",
       "      <td>Amazon.in, Paytm.com</td>\n",
       "      <td>Amazon.in, Paytm.com</td>\n",
       "      <td>Amazon.in, Paytm.com</td>\n",
       "      <td>Amazon.in, Paytm.com</td>\n",
       "      <td>Flipkart.com</td>\n",
       "      <td>Paytm.com</td>\n",
       "      <td>Flipkart.com</td>\n",
       "      <td>Amazon.in</td>\n",
       "      <td>Amazon.in, Paytm.com</td>\n",
       "    </tr>\n",
       "    <tr>\n",
       "      <th>261</th>\n",
       "      <td>1</td>\n",
       "      <td>2</td>\n",
       "      <td>Greater Noida</td>\n",
       "      <td>201308</td>\n",
       "      <td>4</td>\n",
       "      <td>5</td>\n",
       "      <td>3</td>\n",
       "      <td>1</td>\n",
       "      <td>4</td>\n",
       "      <td>2</td>\n",
       "      <td>...</td>\n",
       "      <td>Myntra.com</td>\n",
       "      <td>Myntra.com</td>\n",
       "      <td>Myntra.com</td>\n",
       "      <td>Myntra.com</td>\n",
       "      <td>Amazon.in</td>\n",
       "      <td>Paytm.com</td>\n",
       "      <td>Paytm.com</td>\n",
       "      <td>Paytm.com</td>\n",
       "      <td>Amazon.in</td>\n",
       "      <td>Amazon.in, Paytm.com, Myntra.com</td>\n",
       "    </tr>\n",
       "    <tr>\n",
       "      <th>265</th>\n",
       "      <td>1</td>\n",
       "      <td>3</td>\n",
       "      <td>Ghaziabad</td>\n",
       "      <td>201008</td>\n",
       "      <td>2</td>\n",
       "      <td>4</td>\n",
       "      <td>3</td>\n",
       "      <td>1</td>\n",
       "      <td>5</td>\n",
       "      <td>2</td>\n",
       "      <td>...</td>\n",
       "      <td>Flipkart.com</td>\n",
       "      <td>Flipkart.com</td>\n",
       "      <td>Flipkart.com</td>\n",
       "      <td>Flipkart.com</td>\n",
       "      <td>Flipkart.com</td>\n",
       "      <td>Flipkart.com</td>\n",
       "      <td>Flipkart.com</td>\n",
       "      <td>Flipkart.com</td>\n",
       "      <td>Flipkart.com</td>\n",
       "      <td>Flipkart.com</td>\n",
       "    </tr>\n",
       "    <tr>\n",
       "      <th>268</th>\n",
       "      <td>1</td>\n",
       "      <td>4</td>\n",
       "      <td>Ghaziabad</td>\n",
       "      <td>201009</td>\n",
       "      <td>3</td>\n",
       "      <td>4</td>\n",
       "      <td>3</td>\n",
       "      <td>1</td>\n",
       "      <td>4</td>\n",
       "      <td>2</td>\n",
       "      <td>...</td>\n",
       "      <td>Amazon.in</td>\n",
       "      <td>Amazon.in</td>\n",
       "      <td>Amazon.in</td>\n",
       "      <td>Amazon.in</td>\n",
       "      <td>Amazon.in</td>\n",
       "      <td>Amazon.in</td>\n",
       "      <td>Amazon.in</td>\n",
       "      <td>Amazon.in</td>\n",
       "      <td>Amazon.in</td>\n",
       "      <td>Amazon.in</td>\n",
       "    </tr>\n",
       "  </tbody>\n",
       "</table>\n",
       "<p>126 rows × 71 columns</p>\n",
       "</div>"
      ],
      "text/plain": [
       "     Gender of respondent  How old are you?  \\\n",
       "0                       0                 3   \n",
       "1                       1                 2   \n",
       "2                       1                 2   \n",
       "5                       1                 3   \n",
       "6                       0                 4   \n",
       "..                    ...               ...   \n",
       "258                     1                 2   \n",
       "260                     1                 3   \n",
       "261                     1                 2   \n",
       "265                     1                 3   \n",
       "268                     1                 4   \n",
       "\n",
       "    Which city do you shop online from?  \\\n",
       "0                                 Delhi   \n",
       "1                                 Delhi   \n",
       "2                         Greater Noida   \n",
       "5                                 Noida   \n",
       "6                                 Delhi   \n",
       "..                                  ...   \n",
       "258                               Delhi   \n",
       "260                               Noida   \n",
       "261                       Greater Noida   \n",
       "265                           Ghaziabad   \n",
       "268                           Ghaziabad   \n",
       "\n",
       "     What is the Pin Code of where you shop online from?  \\\n",
       "0                                               110009     \n",
       "1                                               110030     \n",
       "2                                               201308     \n",
       "5                                               201308     \n",
       "6                                               110011     \n",
       "..                                                 ...     \n",
       "258                                             110030     \n",
       "260                                             201308     \n",
       "261                                             201308     \n",
       "265                                             201008     \n",
       "268                                             201009     \n",
       "\n",
       "     Since How Long You are Shopping Online ?  \\\n",
       "0                                           5   \n",
       "1                                           5   \n",
       "2                                           4   \n",
       "5                                           5   \n",
       "6                                           5   \n",
       "..                                        ...   \n",
       "258                                         5   \n",
       "260                                         5   \n",
       "261                                         4   \n",
       "265                                         2   \n",
       "268                                         3   \n",
       "\n",
       "     How many times you have made an online purchase in the past 1 year?  \\\n",
       "0                                                    4                     \n",
       "1                                                    5                     \n",
       "2                                                    5                     \n",
       "5                                                    5                     \n",
       "6                                                    4                     \n",
       "..                                                 ...                     \n",
       "258                                                  5                     \n",
       "260                                                  5                     \n",
       "261                                                  5                     \n",
       "265                                                  4                     \n",
       "268                                                  4                     \n",
       "\n",
       "     How do you access the internet while shopping on-line?  \\\n",
       "0                                                    4        \n",
       "1                                                    2        \n",
       "2                                                    3        \n",
       "5                                                    2        \n",
       "6                                                    2        \n",
       "..                                                 ...        \n",
       "258                                                  2        \n",
       "260                                                  2        \n",
       "261                                                  3        \n",
       "265                                                  3        \n",
       "268                                                  3        \n",
       "\n",
       "     Which device do you use to access the online shopping?  \\\n",
       "0                                                    3        \n",
       "1                                                    1        \n",
       "2                                                    1        \n",
       "5                                                    1        \n",
       "6                                                    4        \n",
       "..                                                 ...        \n",
       "258                                                  1        \n",
       "260                                                  1        \n",
       "261                                                  1        \n",
       "265                                                  1        \n",
       "268                                                  1        \n",
       "\n",
       "     What is the screen size of your mobile device?  \\\n",
       "0                                                 5   \n",
       "1                                                 2   \n",
       "2                                                 4   \n",
       "5                                                 4   \n",
       "6                                                 5   \n",
       "..                                              ...   \n",
       "258                                               2   \n",
       "260                                               4   \n",
       "261                                               4   \n",
       "265                                               5   \n",
       "268                                               4   \n",
       "\n",
       "     What is the operating system (OS) of your device?  ...  \\\n",
       "0                                                    1  ...   \n",
       "1                                                    3  ...   \n",
       "2                                                    2  ...   \n",
       "5                                                    2  ...   \n",
       "6                                                    2  ...   \n",
       "..                                                 ...  ...   \n",
       "258                                                  3  ...   \n",
       "260                                                  2  ...   \n",
       "261                                                  2  ...   \n",
       "265                                                  2  ...   \n",
       "268                                                  2  ...   \n",
       "\n",
       "     Longer time to get logged in (promotion, sales period)  \\\n",
       "0                                            Amazon.in        \n",
       "1                              Amazon.in, Flipkart.com        \n",
       "2                                           Myntra.com        \n",
       "5                Flipkart.com, Paytm.com, Snapdeal.com        \n",
       "6                Amazon.in, Flipkart.com, Snapdeal.com        \n",
       "..                                                 ...        \n",
       "258                            Amazon.in, Flipkart.com        \n",
       "260              Flipkart.com, Paytm.com, Snapdeal.com        \n",
       "261                                         Myntra.com        \n",
       "265                                       Flipkart.com        \n",
       "268                                          Amazon.in        \n",
       "\n",
       "     Longer time in displaying graphics and photos (promotion, sales period)  \\\n",
       "0                                            Amazon.in                         \n",
       "1                                           Myntra.com                         \n",
       "2                                           Myntra.com                         \n",
       "5                                 Amazon.in, Paytm.com                         \n",
       "6                                            Amazon.in                         \n",
       "..                                                 ...                         \n",
       "258                                         Myntra.com                         \n",
       "260                               Amazon.in, Paytm.com                         \n",
       "261                                         Myntra.com                         \n",
       "265                                       Flipkart.com                         \n",
       "268                                          Amazon.in                         \n",
       "\n",
       "     Late declaration of price (promotion, sales period)  \\\n",
       "0                                         Flipkart.com     \n",
       "1                                         snapdeal.com     \n",
       "2                                           Myntra.com     \n",
       "5                                 Amazon.in, Paytm.com     \n",
       "6                                           Myntra.com     \n",
       "..                                                 ...     \n",
       "258                                       snapdeal.com     \n",
       "260                               Amazon.in, Paytm.com     \n",
       "261                                         Myntra.com     \n",
       "265                                       Flipkart.com     \n",
       "268                                          Amazon.in     \n",
       "\n",
       "     Longer page loading time (promotion, sales period)  \\\n",
       "0                                         Flipkart.com    \n",
       "1                                         Snapdeal.com    \n",
       "2                                           Myntra.com    \n",
       "5                                 Amazon.in, Paytm.com    \n",
       "6                                           Myntra.com    \n",
       "..                                                 ...    \n",
       "258                                       Snapdeal.com    \n",
       "260                               Amazon.in, Paytm.com    \n",
       "261                                         Myntra.com    \n",
       "265                                       Flipkart.com    \n",
       "268                                          Amazon.in    \n",
       "\n",
       "     Limited mode of payment on most products (promotion, sales period)  \\\n",
       "0                                            Amazon.in                    \n",
       "1                                         Snapdeal.com                    \n",
       "2                                            Amazon.in                    \n",
       "5                                 Amazon.in, Paytm.com                    \n",
       "6                                         Flipkart.com                    \n",
       "..                                                 ...                    \n",
       "258                                       Snapdeal.com                    \n",
       "260                               Amazon.in, Paytm.com                    \n",
       "261                                          Amazon.in                    \n",
       "265                                       Flipkart.com                    \n",
       "268                                          Amazon.in                    \n",
       "\n",
       "     Longer delivery period  Change in website/Application design  \\\n",
       "0                 Paytm.com                          Flipkart.com   \n",
       "1              Snapdeal.com                             Amazon.in   \n",
       "2                 Paytm.com                             Paytm.com   \n",
       "5              Flipkart.com                             Paytm.com   \n",
       "6              Snapdeal.com                            Myntra.com   \n",
       "..                      ...                                   ...   \n",
       "258            Snapdeal.com                             Amazon.in   \n",
       "260            Flipkart.com                             Paytm.com   \n",
       "261               Paytm.com                             Paytm.com   \n",
       "265            Flipkart.com                          Flipkart.com   \n",
       "268               Amazon.in                             Amazon.in   \n",
       "\n",
       "     Frequent disruption when moving from one page to another  \\\n",
       "0                                            Amazon.in          \n",
       "1                                           Myntra.com          \n",
       "2                                            Paytm.com          \n",
       "5                                         Flipkart.com          \n",
       "6                                           Myntra.com          \n",
       "..                                                 ...          \n",
       "258                                         Myntra.com          \n",
       "260                                       Flipkart.com          \n",
       "261                                          Paytm.com          \n",
       "265                                       Flipkart.com          \n",
       "268                                          Amazon.in          \n",
       "\n",
       "     Website is as efficient as before  \\\n",
       "0                            Amazon.in   \n",
       "1              Amazon.in, Flipkart.com   \n",
       "2                            Amazon.in   \n",
       "5                            Amazon.in   \n",
       "6                         Snapdeal.com   \n",
       "..                                 ...   \n",
       "258            Amazon.in, Flipkart.com   \n",
       "260                          Amazon.in   \n",
       "261                          Amazon.in   \n",
       "265                       Flipkart.com   \n",
       "268                          Amazon.in   \n",
       "\n",
       "     Which of the Indian online retailer would you recommend to a friend?  \n",
       "0                                         Flipkart.com                     \n",
       "1                                Amazon.in, Myntra.com                     \n",
       "2                     Amazon.in, Paytm.com, Myntra.com                     \n",
       "5                                 Amazon.in, Paytm.com                     \n",
       "6    Flipkart.com, Paytm.com, Myntra.com, snapdeal.com                     \n",
       "..                                                 ...                     \n",
       "258                              Amazon.in, Myntra.com                     \n",
       "260                               Amazon.in, Paytm.com                     \n",
       "261                   Amazon.in, Paytm.com, Myntra.com                     \n",
       "265                                       Flipkart.com                     \n",
       "268                                          Amazon.in                     \n",
       "\n",
       "[126 rows x 71 columns]"
      ]
     },
     "execution_count": 15,
     "metadata": {},
     "output_type": "execute_result"
    }
   ],
   "source": [
    "loyal"
   ]
  },
  {
   "cell_type": "code",
   "execution_count": 16,
   "metadata": {},
   "outputs": [
    {
     "data": {
      "text/plain": [
       "<AxesSubplot:>"
      ]
     },
     "execution_count": 16,
     "metadata": {},
     "output_type": "execute_result"
    },
    {
     "data": {
      "image/png": "[encoded data removed]",
      "text/plain": [
       "<Figure size 432x288 with 1 Axes>"
      ]
     },
     "metadata": {
      "needs_background": "light"
     },
     "output_type": "display_data"
    }
   ],
   "source": [
    "loyal['How do you access the internet while shopping on-line?'].value_counts().plot.bar()"
   ]
  },
  {
   "cell_type": "code",
   "execution_count": 17,
   "metadata": {},
   "outputs": [
    {
     "data": {
      "text/plain": [
       "<AxesSubplot:>"
      ]
     },
     "execution_count": 17,
     "metadata": {},
     "output_type": "execute_result"
    },
    {
     "data": {
      "image/png": "[encoded data removed]",
      "text/plain": [
       "<Figure size 432x288 with 1 Axes>"
      ]
     },
     "metadata": {
      "needs_background": "light"
     },
     "output_type": "display_data"
    }
   ],
   "source": [
    "df['How do you access the internet while shopping on-line?'].value_counts().plot.bar()"
   ]
  },
  {
   "cell_type": "code",
   "execution_count": 18,
   "metadata": {},
   "outputs": [
    {
     "data": {
      "text/plain": [
       "<AxesSubplot:>"
      ]
     },
     "execution_count": 18,
     "metadata": {},
     "output_type": "execute_result"
    },
    {
     "data": {
      "image/png": "[encoded data removed]",
      "text/plain": [
       "<Figure size 432x288 with 1 Axes>"
      ]
     },
     "metadata": {
      "needs_background": "light"
     },
     "output_type": "display_data"
    }
   ],
   "source": [
    "loyal['How old are you?'].value_counts().plot.bar()"
   ]
  },
  {
   "cell_type": "code",
   "execution_count": 19,
   "metadata": {},
   "outputs": [
    {
     "data": {
      "text/plain": [
       "<AxesSubplot:>"
      ]
     },
     "execution_count": 19,
     "metadata": {},
     "output_type": "execute_result"
    },
    {
     "data": {
      "image/png": "[encoded data removed]",
      "text/plain": [
       "<Figure size 432x288 with 1 Axes>"
      ]
     },
     "metadata": {
      "needs_background": "light"
     },
     "output_type": "display_data"
    }
   ],
   "source": [
    "df['How old are you?'].value_counts().plot.bar()"
   ]
  },
  {
   "cell_type": "code",
   "execution_count": 20,
   "metadata": {},
   "outputs": [],
   "source": [
    "#There is no specific trend relating to the age and the connectivity on the loyalty of the customers"
   ]
  },
  {
   "cell_type": "code",
   "execution_count": 21,
   "metadata": {},
   "outputs": [
    {
     "data": {
      "text/plain": [
       "<AxesSubplot:>"
      ]
     },
     "execution_count": 21,
     "metadata": {},
     "output_type": "execute_result"
    },
    {
     "data": {
      "image/png": "[encoded data removed]",
      "text/plain": [
       "<Figure size 432x288 with 1 Axes>"
      ]
     },
     "metadata": {
      "needs_background": "light"
     },
     "output_type": "display_data"
    }
   ],
   "source": [
    "df['Which device do you use to access the online shopping?'].value_counts().plot.barh()"
   ]
  },
  {
   "cell_type": "code",
   "execution_count": 22,
   "metadata": {},
   "outputs": [
    {
     "data": {
      "text/plain": [
       "<AxesSubplot:>"
      ]
     },
     "execution_count": 22,
     "metadata": {},
     "output_type": "execute_result"
    },
    {
     "data": {
      "image/png": "[encoded data removed]",
      "text/plain": [
       "<Figure size 432x288 with 1 Axes>"
      ]
     },
     "metadata": {
      "needs_background": "light"
     },
     "output_type": "display_data"
    }
   ],
   "source": [
    "loyal['Which device do you use to access the online shopping?'].value_counts().plot.barh()"
   ]
  },
  {
   "cell_type": "code",
   "execution_count": 23,
   "metadata": {},
   "outputs": [
    {
     "data": {
      "text/plain": [
       "Index(['Gender of respondent', 'How old are you?',\n",
       "       'Which city do you shop online from?',\n",
       "       'What is the Pin Code of where you shop online from?',\n",
       "       'Since How Long You are Shopping Online ?',\n",
       "       'How many times you have made an online purchase in the past 1 year?',\n",
       "       'How do you access the internet while shopping on-line?',\n",
       "       'Which device do you use to access the online shopping?',\n",
       "       'What is the screen size of your mobile device?',\n",
       "       'What is the operating system (OS) of your device?',\n",
       "       'What browser do you run on your device to access the website?',\n",
       "       'Which channel did you follow to arrive at your favorite online store for the first time?',\n",
       "       'After first visit, how do you reach the online retail store?',\n",
       "       'How much time do you explore the e- retail store before making a purchase decision?',\n",
       "       'What is your preferred payment Option?',\n",
       "       'How frequently do you abandon (selecting an items and leaving without making payment) your shopping cart?',\n",
       "       'Why did you abandon the “Bag”, “Shopping Cart”?',\n",
       "       'The content on the website must be easy to read and understand',\n",
       "       'Information on similar product to the one highlighted is important for product comparison',\n",
       "       'Complete information on listed seller and product being offered is important for purchase decision',\n",
       "       'All relevant information on listed products must be stated clearly',\n",
       "       'Ease of navigation in website', 'Loading and processing speed',\n",
       "       'User friendly Interface of the website', 'Convenient Payment methods',\n",
       "       'Trust that the online retail store will fulfill its part of the transaction at the stipulated time',\n",
       "       'Empathy (readiness to assist with queries) towards the customers',\n",
       "       'Being able to guarantee the privacy of the customer',\n",
       "       'Responsiveness, availability of several communication channels (email, online rep, twitter, phone etc.)',\n",
       "       'Online shopping gives monetary benefit and discounts',\n",
       "       'Enjoyment is derived from shopping online',\n",
       "       'Shopping online is convenient and flexible',\n",
       "       'Return and replacement policy of the e-tailer is important for purchase decision',\n",
       "       'Gaining access to loyalty programs is a benefit of shopping online',\n",
       "       'Displaying quality Information on the website improves satisfaction of customers',\n",
       "       'User derive satisfaction while shopping on a good quality website or application',\n",
       "       'Net Benefit derived from shopping online can lead to users satisfaction',\n",
       "       'User satisfaction cannot exist without trust',\n",
       "       'Offering a wide variety of listed product in several category',\n",
       "       'Provision of complete and relevant product information',\n",
       "       'Monetary savings',\n",
       "       'The Convenience of patronizing the online retailer',\n",
       "       'Shopping on the website gives you the sense of adventure',\n",
       "       'Shopping on your preferred e-tailer enhances your social status',\n",
       "       'You feel gratification shopping on your favorite e-tailer',\n",
       "       'Shopping on the website helps you fulfill certain roles',\n",
       "       'Getting value for money spent',\n",
       "       'From the following, tick any (or all) of the online retailers you have shopped from;',\n",
       "       'Easy to use website or application',\n",
       "       'Visual appealing web-page layout', 'Wild variety of product on offer',\n",
       "       'Complete, relevant description information of products',\n",
       "       'Fast loading website speed of website and application',\n",
       "       'Reliability of the website or application',\n",
       "       'Quickness to complete purchase',\n",
       "       'Availability of several payment options', 'Speedy order delivery',\n",
       "       'Privacy of customers’ information',\n",
       "       'Security of customer financial information',\n",
       "       'Perceived Trustworthiness',\n",
       "       'Presence of online assistance through multi-channel',\n",
       "       'Longer time to get logged in (promotion, sales period)',\n",
       "       'Longer time in displaying graphics and photos (promotion, sales period)',\n",
       "       'Late declaration of price (promotion, sales period)',\n",
       "       'Longer page loading time (promotion, sales period)',\n",
       "       'Limited mode of payment on most products (promotion, sales period)',\n",
       "       'Longer delivery period', 'Change in website/Application design',\n",
       "       'Frequent disruption when moving from one page to another',\n",
       "       'Website is as efficient as before',\n",
       "       'Which of the Indian online retailer would you recommend to a friend?'],\n",
       "      dtype='object')"
      ]
     },
     "execution_count": 23,
     "metadata": {},
     "output_type": "execute_result"
    }
   ],
   "source": [
    "df.columns"
   ]
  },
  {
   "cell_type": "code",
   "execution_count": 29,
   "metadata": {},
   "outputs": [
    {
     "data": {
      "text/plain": [
       "<AxesSubplot:>"
      ]
     },
     "execution_count": 29,
     "metadata": {},
     "output_type": "execute_result"
    },
    {
     "data": {
      "image/png": "[encoded data removed]",
      "text/plain": [
       "<Figure size 432x288 with 1 Axes>"
      ]
     },
     "metadata": {
      "needs_background": "light"
     },
     "output_type": "display_data"
    }
   ],
   "source": [
    "df['What browser do you run on your device to access the website?'].value_counts().plot.bar()"
   ]
  },
  {
   "cell_type": "code",
   "execution_count": 30,
   "metadata": {},
   "outputs": [
    {
     "data": {
      "text/plain": [
       "<AxesSubplot:>"
      ]
     },
     "execution_count": 30,
     "metadata": {},
     "output_type": "execute_result"
    },
    {
     "data": {
      "image/png": "[encoded data removed]",
      "text/plain": [
       "<Figure size 432x288 with 1 Axes>"
      ]
     },
     "metadata": {
      "needs_background": "light"
     },
     "output_type": "display_data"
    }
   ],
   "source": [
    "loyal['What browser do you run on your device to access the website?'].value_counts().plot.bar()"
   ]
  },
  {
   "cell_type": "code",
   "execution_count": 31,
   "metadata": {},
   "outputs": [
    {
     "data": {
      "text/plain": [
       "<AxesSubplot:>"
      ]
     },
     "execution_count": 31,
     "metadata": {},
     "output_type": "execute_result"
    },
    {
     "data": {
      "image/png": "[encoded data removed]",
      "text/plain": [
       "<Figure size 432x288 with 1 Axes>"
      ]
     },
     "metadata": {
      "needs_background": "light"
     },
     "output_type": "display_data"
    }
   ],
   "source": [
    "df['What is your preferred payment Option?'].value_counts().plot.bar()"
   ]
  },
  {
   "cell_type": "code",
   "execution_count": 33,
   "metadata": {},
   "outputs": [
    {
     "data": {
      "text/plain": [
       "<AxesSubplot:>"
      ]
     },
     "execution_count": 33,
     "metadata": {},
     "output_type": "execute_result"
    },
    {
     "data": {
      "image/png": "[encoded data removed]",
      "text/plain": [
       "<Figure size 432x288 with 1 Axes>"
      ]
     },
     "metadata": {
      "needs_background": "light"
     },
     "output_type": "display_data"
    }
   ],
   "source": [
    "df['How frequently do you abandon (selecting an items and leaving without making payment) your shopping cart?'].value_counts().plot.barh()"
   ]
  },
  {
   "cell_type": "code",
   "execution_count": 34,
   "metadata": {},
   "outputs": [
    {
     "data": {
      "text/plain": [
       "<AxesSubplot:>"
      ]
     },
     "execution_count": 34,
     "metadata": {},
     "output_type": "execute_result"
    },
    {
     "data": {
      "image/png": "[encoded data removed]",
      "text/plain": [
       "<Figure size 432x288 with 1 Axes>"
      ]
     },
     "metadata": {
      "needs_background": "light"
     },
     "output_type": "display_data"
    }
   ],
   "source": []
  },
  {
   "cell_type": "code",
   "execution_count": 36,
   "metadata": {},
   "outputs": [
    {
     "data": {
      "text/plain": [
       "<AxesSubplot:>"
      ]
     },
     "execution_count": 36,
     "metadata": {},
     "output_type": "execute_result"
    },
    {
     "data": {
      "image/png": "[encoded data removed]",
      "text/plain": [
       "<Figure size 432x288 with 1 Axes>"
      ]
     },
     "metadata": {
      "needs_background": "light"
     },
     "output_type": "display_data"
    }
   ],
   "source": [
    "df['Frequent disruption when moving from one page to another'].value_counts().plot.barh()"
   ]
  },
  {
   "cell_type": "code",
   "execution_count": 37,
   "metadata": {},
   "outputs": [
    {
     "data": {
      "text/plain": [
       "<AxesSubplot:>"
      ]
     },
     "execution_count": 37,
     "metadata": {},
     "output_type": "execute_result"
    },
    {
     "data": {
      "image/png": "[encoded data removed]",
      "text/plain": [
       "<Figure size 432x288 with 1 Axes>"
      ]
     },
     "metadata": {
      "needs_background": "light"
     },
     "output_type": "display_data"
    }
   ],
   "source": [
    "df['Which of the Indian online retailer would you recommend to a friend?'].value_counts().plot.barh()"
   ]
  },
  {
   "cell_type": "code",
   "execution_count": 49,
   "metadata": {},
   "outputs": [
    {
     "data": {
      "text/plain": [
       "<AxesSubplot:>"
      ]
     },
     "execution_count": 49,
     "metadata": {},
     "output_type": "execute_result"
    },
    {
     "data": {
      "image/png": "[encoded data removed]",
      "text/plain": [
       "<Figure size 432x288 with 1 Axes>"
      ]
     },
     "metadata": {
      "needs_background": "light"
     },
     "output_type": "display_data"
    }
   ],
   "source": [
    "df['Longer delivery period'].value_counts().plot.barh()"
   ]
  },
  {
   "cell_type": "code",
   "execution_count": 50,
   "metadata": {},
   "outputs": [
    {
     "data": {
      "text/plain": [
       "<AxesSubplot:>"
      ]
     },
     "execution_count": 50,
     "metadata": {},
     "output_type": "execute_result"
    },
    {
     "data": {
      "image/png": "[encoded data removed]",
      "text/plain": [
       "<Figure size 432x288 with 1 Axes>"
      ]
     },
     "metadata": {
      "needs_background": "light"
     },
     "output_type": "display_data"
    }
   ],
   "source": [
    "df['Change in website/Application design'].value_counts().plot.barh()"
   ]
  },
  {
   "cell_type": "code",
   "execution_count": 52,
   "metadata": {},
   "outputs": [
    {
     "data": {
      "text/plain": [
       "<AxesSubplot:>"
      ]
     },
     "execution_count": 52,
     "metadata": {},
     "output_type": "execute_result"
    },
    {
     "data": {
      "image/png": "[encoded data removed]",
      "text/plain": [
       "<Figure size 432x288 with 1 Axes>"
      ]
     },
     "metadata": {
      "needs_background": "light"
     },
     "output_type": "display_data"
    }
   ],
   "source": [
    "df['From the following, tick any (or all) of the online retailers you have shopped from;'].value_counts().plot.barh()"
   ]
  },
  {
   "cell_type": "code",
   "execution_count": 53,
   "metadata": {},
   "outputs": [],
   "source": [
    "# From the above chart, it is clear that 100% of the customers have shopped atleast once from amazon in their life in comparisonto other platforms which has given them the upper hand\n",
    "#Lack of awareness of other platforms could be a reason for people not using the other indian platforms as widely."
   ]
  },
  {
   "cell_type": "code",
   "execution_count": 55,
   "metadata": {},
   "outputs": [
    {
     "data": {
      "text/plain": [
       "Amazon.in, Flipkart.com, Paytm.com, Myntra.com, Snapdeal.com    64\n",
       "Amazon.in, Flipkart.com, Myntra.com, Snapdeal.com               44\n",
       "Amazon.in, Flipkart.com                                         44\n",
       "Amazon.in                                                       29\n",
       "Amazon.in, Flipkart.com, Paytm.com, Snapdeal.com                22\n",
       "Amazon.in, Paytm.com, Myntra.com                                20\n",
       "Amazon.in, Flipkart.com, Myntra.com                             19\n",
       "Paytm.com                                                       12\n",
       "Flipkart.com                                                     8\n",
       "Amazon.in, Paytm.com                                             7\n",
       "Name: Easy to use website or application, dtype: int64"
      ]
     },
     "execution_count": 55,
     "metadata": {},
     "output_type": "execute_result"
    }
   ],
   "source": [
    "df['Easy to use website or application'].value_counts()"
   ]
  },
  {
   "cell_type": "code",
   "execution_count": 60,
   "metadata": {},
   "outputs": [
    {
     "data": {
      "text/plain": [
       "<AxesSubplot:>"
      ]
     },
     "execution_count": 60,
     "metadata": {},
     "output_type": "execute_result"
    },
    {
     "data": {
      "image/png": "[encoded data removed]",
      "text/plain": [
       "<Figure size 432x288 with 1 Axes>"
      ]
     },
     "metadata": {
      "needs_background": "light"
     },
     "output_type": "display_data"
    }
   ],
   "source": [
    "df['Visual appealing web-page layout'].value_counts().plot.barh()"
   ]
  },
  {
   "cell_type": "code",
   "execution_count": 61,
   "metadata": {},
   "outputs": [],
   "source": [
    "#Except for 20 people from the entire dataset, everyone is of the opinion that amazon is easy to use"
   ]
  },
  {
   "cell_type": "code",
   "execution_count": 63,
   "metadata": {},
   "outputs": [
    {
     "data": {
      "text/plain": [
       "Amazon.in, Flipkart.com                              130\n",
       "Amazon.in                                             43\n",
       "Amazon.in, Myntra.com                                 20\n",
       "Myntra.com                                            15\n",
       "Flipkart.com, Myntra.com                              15\n",
       "Amazon.in, Flipkart.com, Myntra.com, Snapdeal.com     14\n",
       "Amazon.in, Flipkart.com, Paytm.com                    13\n",
       "Flipkart.com                                          12\n",
       "Paytm.com                                              7\n",
       "Name: Wild variety of product on offer, dtype: int64"
      ]
     },
     "execution_count": 63,
     "metadata": {},
     "output_type": "execute_result"
    }
   ],
   "source": [
    "df['Wild variety of product on offer'].value_counts()"
   ]
  },
  {
   "cell_type": "code",
   "execution_count": 64,
   "metadata": {},
   "outputs": [],
   "source": [
    "#Around 220 of total 269 customers think that amazon offers wide variety of products on offer.\n",
    "#This marketing strategy is widely spread accross the online shopping community and has contributed majorly to the populrity of amazon"
   ]
  },
  {
   "cell_type": "code",
   "execution_count": 65,
   "metadata": {},
   "outputs": [
    {
     "data": {
      "text/plain": [
       "Amazon.in                                                       51\n",
       "Amazon.in, Paytm.com                                            44\n",
       "Amazon.in, Flipkart.com, Myntra.com                             30\n",
       "Amazon.in, Flipkart.com, Paytm.com, Myntra.com, Snapdeal.com    30\n",
       "Amazon.in, Flipkart.com                                         30\n",
       "Amazon.in, Flipkart.com, Snapdeal.com                           25\n",
       "Amazon.in, Flipkart.com, Paytm.com                              25\n",
       "Amazon.in, Flipkart.com, Myntra.com, Snapdeal.com               14\n",
       "Snapdeal.com                                                    12\n",
       "Flipkart.com                                                     8\n",
       "Name: Fast loading website speed of website and application, dtype: int64"
      ]
     },
     "execution_count": 65,
     "metadata": {},
     "output_type": "execute_result"
    }
   ],
   "source": [
    "df['Fast loading website speed of website and application'].value_counts()"
   ]
  },
  {
   "cell_type": "code",
   "execution_count": 67,
   "metadata": {},
   "outputs": [
    {
     "data": {
      "text/plain": [
       "Amazon.in, Flipkart.com                                         100\n",
       "Amazon.in                                                        43\n",
       "Amazon.in, Flipkart.com, Paytm.com                               24\n",
       "Amazon.in, Paytm.com, Myntra.com                                 20\n",
       "Amazon.in, Flipkart.com, Myntra.com                              15\n",
       "Amazon.in, Flipkart.com, Paytm.com, Myntra.com, Snapdeal.com     15\n",
       "Amazon.in, Flipkart.com, Myntra.com, Snapdeal.com                14\n",
       "Snapdeal.com                                                     12\n",
       "Flipkart.com, Snapdeal.com                                       11\n",
       "Flipkart.com                                                      8\n",
       "Amazon.in, Flipkart.com, Snapdeal.com                             7\n",
       "Name: Complete, relevant description information of products, dtype: int64"
      ]
     },
     "execution_count": 67,
     "metadata": {},
     "output_type": "execute_result"
    }
   ],
   "source": [
    "df['Complete, relevant description information of products'].value_counts()\n",
    "# Apart from 38 people, the rest of the customers agree that amazon and flipkart provide detailed product descriptions"
   ]
  },
  {
   "cell_type": "code",
   "execution_count": 68,
   "metadata": {},
   "outputs": [
    {
     "data": {
      "text/plain": [
       "Amazon.in                                            61\n",
       "Amazon.in, Flipkart.com                              50\n",
       "Amazon.in, Flipkart.com, Paytm.com                   36\n",
       "Amazon.in, Paytm.com, Myntra.com                     35\n",
       "Amazon.in, Flipkart.com, Snapdeal.com                18\n",
       "Myntra.com                                           15\n",
       "Flipkart.com                                         15\n",
       "Amazon.in, Flipkart.com, Myntra.com, Snapdeal.com    14\n",
       "Amazon.in, Flipkart.com, Paytm.com, Snapdeal.com     13\n",
       "Paytm.com                                            12\n",
       "Name: Reliability of the website or application, dtype: int64"
      ]
     },
     "execution_count": 68,
     "metadata": {},
     "output_type": "execute_result"
    }
   ],
   "source": [
    "df['Reliability of the website or application'].value_counts()"
   ]
  },
  {
   "cell_type": "code",
   "execution_count": 69,
   "metadata": {},
   "outputs": [
    {
     "data": {
      "text/plain": [
       "Amazon.com                                                   66\n",
       "Amazon.com, Flipkart.com, Paytm.com                          47\n",
       "Amazon.com, Flipkart.com                                     37\n",
       "Amazon.com, Flipkart.com, Myntra.com                         30\n",
       "Paytm.com                                                    25\n",
       "Amazon.com, Paytm.com, Myntra.com                            20\n",
       "Amazon.com, Flipkart.com, Paytm.com, Myntra.com, Snapdeal    15\n",
       "Flipkart.com                                                 15\n",
       "Flipkart.com, Myntra.com, Snapdeal                           14\n",
       "Name: Quickness to complete purchase, dtype: int64"
      ]
     },
     "execution_count": 69,
     "metadata": {},
     "output_type": "execute_result"
    }
   ],
   "source": [
    "df['Quickness to complete purchase'].value_counts()"
   ]
  },
  {
   "cell_type": "code",
   "execution_count": 73,
   "metadata": {},
   "outputs": [
    {
     "data": {
      "text/plain": [
       "Amazon.in                                 107\n",
       "Amazon.in, Flipkart.com                    82\n",
       "Amazon.in, Flipkart.com, Snapdeal.com      36\n",
       "Flipkart.com                               15\n",
       "Amazon.in, Flipkart.com, Myntra.com        15\n",
       "Flipkart.com, Myntra.com, Snapdeal.com     14\n",
       "Name: Speedy order delivery, dtype: int64"
      ]
     },
     "execution_count": 73,
     "metadata": {},
     "output_type": "execute_result"
    }
   ],
   "source": [
    "df['Speedy order delivery'].value_counts()"
   ]
  },
  {
   "cell_type": "code",
   "execution_count": 74,
   "metadata": {},
   "outputs": [
    {
     "data": {
      "text/plain": [
       "Amazon.in                                                       71\n",
       "Amazon.in, Flipkart.com                                         54\n",
       "Amazon.in, Flipkart.com, Myntra.com                             25\n",
       "Amazon.in, Flipkart.com, Paytm.com, Myntra.com, Snapdeal.com    24\n",
       "Paytm.com                                                       18\n",
       "Myntra.com                                                      15\n",
       "Amazon.in, Paytm.com                                            15\n",
       "Flipkart.com                                                    15\n",
       "Amazon.in, Flipkart.com, Myntra.com, Snapdeal.com               14\n",
       "Amazon.in, Flipkart.com, Paytm.com                              11\n",
       "Amazon.in, Flipkart.com, Snapdeal.com                            7\n",
       "Name: Privacy of customers’ information, dtype: int64"
      ]
     },
     "execution_count": 74,
     "metadata": {},
     "output_type": "execute_result"
    }
   ],
   "source": [
    "df['Privacy of customers’ information'].value_counts()"
   ]
  },
  {
   "cell_type": "code",
   "execution_count": 75,
   "metadata": {},
   "outputs": [
    {
     "data": {
      "text/plain": [
       "<AxesSubplot:>"
      ]
     },
     "execution_count": 75,
     "metadata": {},
     "output_type": "execute_result"
    },
    {
     "data": {
      "image/png": "[encoded data removed]",
      "text/plain": [
       "<Figure size 432x288 with 1 Axes>"
      ]
     },
     "metadata": {
      "needs_background": "light"
     },
     "output_type": "display_data"
    }
   ],
   "source": [
    "df['Security of customer financial information'].value_counts().plot.barh()"
   ]
  },
  {
   "cell_type": "code",
   "execution_count": 76,
   "metadata": {},
   "outputs": [
    {
     "data": {
      "text/plain": [
       "<AxesSubplot:>"
      ]
     },
     "execution_count": 76,
     "metadata": {},
     "output_type": "execute_result"
    },
    {
     "data": {
      "image/png": "[encoded data removed]",
      "text/plain": [
       "<Figure size 432x288 with 1 Axes>"
      ]
     },
     "metadata": {
      "needs_background": "light"
     },
     "output_type": "display_data"
    }
   ],
   "source": [
    "df['Perceived Trustworthiness'].value_counts().plot.barh()"
   ]
  },
  {
   "cell_type": "code",
   "execution_count": 77,
   "metadata": {},
   "outputs": [
    {
     "data": {
      "text/plain": [
       "Amazon.in, Flipkart.com, Myntra.com, Snapdeal    61\n",
       "Amazon.in                                        60\n",
       "Amazon.in, Flipkart.com                          39\n",
       "Amazon.in, Snapdeal                              26\n",
       "Myntra.com                                       20\n",
       "Amazon.in, Myntra.com                            15\n",
       "Amazon.in, Flipkart.com, Myntra.com              15\n",
       "Amazon.in, Flipkart.com, Paytm.com               13\n",
       "Paytm.com                                        12\n",
       "Flipkart.com                                      8\n",
       "Name: Presence of online assistance through multi-channel, dtype: int64"
      ]
     },
     "execution_count": 77,
     "metadata": {},
     "output_type": "execute_result"
    }
   ],
   "source": [
    "df['Presence of online assistance through multi-channel'].value_counts()"
   ]
  },
  {
   "cell_type": "code",
   "execution_count": 78,
   "metadata": {},
   "outputs": [
    {
     "data": {
      "text/plain": [
       "Amazon.in                                57\n",
       "Paytm.com                                38\n",
       "Amazon.in, Flipkart.com                  38\n",
       "Myntra.com                               35\n",
       "Amazon.in, Flipkart.com, Snapdeal.com    29\n",
       "Snapdeal.com                             25\n",
       "Flipkart.com, Paytm.com                  15\n",
       "Flipkart.com, Paytm.com, Snapdeal.com    13\n",
       "Amazon.in, Paytm.com                     11\n",
       "Flipkart.com                              8\n",
       "Name: Longer time to get logged in (promotion, sales period), dtype: int64"
      ]
     },
     "execution_count": 78,
     "metadata": {},
     "output_type": "execute_result"
    }
   ],
   "source": [
    "df['Longer time to get logged in (promotion, sales period)'].value_counts()"
   ]
  },
  {
   "cell_type": "code",
   "execution_count": 80,
   "metadata": {},
   "outputs": [
    {
     "data": {
      "text/plain": [
       "<AxesSubplot:>"
      ]
     },
     "execution_count": 80,
     "metadata": {},
     "output_type": "execute_result"
    },
    {
     "data": {
      "image/png": "[encoded data removed]",
      "text/plain": [
       "<Figure size 432x288 with 1 Axes>"
      ]
     },
     "metadata": {
      "needs_background": "light"
     },
     "output_type": "display_data"
    }
   ],
   "source": [
    "df['Longer time in displaying graphics and photos (promotion, sales period)'].value_counts().plot.barh()"
   ]
  },
  {
   "cell_type": "code",
   "execution_count": 81,
   "metadata": {},
   "outputs": [
    {
     "data": {
      "text/plain": [
       "Myntra.com                 75\n",
       "Paytm.com                  52\n",
       "snapdeal.com               41\n",
       "Amazon.in                  38\n",
       "Flipkart.com               38\n",
       "Amazon.in, Paytm.com       13\n",
       "Paytm.com, snapdeal.com     7\n",
       "Amazon.in, Flipkart.com     5\n",
       "Name: Late declaration of price (promotion, sales period), dtype: int64"
      ]
     },
     "execution_count": 81,
     "metadata": {},
     "output_type": "execute_result"
    }
   ],
   "source": [
    "df['Late declaration of price (promotion, sales period)'].value_counts()"
   ]
  },
  {
   "cell_type": "code",
   "execution_count": 83,
   "metadata": {},
   "outputs": [
    {
     "data": {
      "text/plain": [
       "<AxesSubplot:>"
      ]
     },
     "execution_count": 83,
     "metadata": {},
     "output_type": "execute_result"
    },
    {
     "data": {
      "image/png": "[encoded data removed]",
      "text/plain": [
       "<Figure size 432x288 with 1 Axes>"
      ]
     },
     "metadata": {
      "needs_background": "light"
     },
     "output_type": "display_data"
    }
   ],
   "source": [
    "df['Longer page loading time (promotion, sales period)'].value_counts().plot.barh()"
   ]
  },
  {
   "cell_type": "code",
   "execution_count": 82,
   "metadata": {},
   "outputs": [],
   "source": [
    "#Promotions are lately declared by other players where amazon and flip kart are chosen by the least number of users. This helps users plan their budgets better and use the promotions effectively.\n",
    "#During promo period,amazon and flipkart were reported to be the slowest, and this is mainly because the other players do not have as much traffic as amazon and flipkart."
   ]
  },
  {
   "cell_type": "code",
   "execution_count": 84,
   "metadata": {},
   "outputs": [
    {
     "data": {
      "text/plain": [
       "<AxesSubplot:>"
      ]
     },
     "execution_count": 84,
     "metadata": {},
     "output_type": "execute_result"
    },
    {
     "data": {
      "image/png": "[encoded data removed]",
      "text/plain": [
       "<Figure size 432x288 with 1 Axes>"
      ]
     },
     "metadata": {
      "needs_background": "light"
     },
     "output_type": "display_data"
    }
   ],
   "source": [
    "df['Limited mode of payment on most products (promotion, sales period)'].value_counts().plot.barh()"
   ]
  },
  {
   "cell_type": "code",
   "execution_count": 86,
   "metadata": {},
   "outputs": [
    {
     "data": {
      "text/plain": [
       "<AxesSubplot:>"
      ]
     },
     "execution_count": 86,
     "metadata": {},
     "output_type": "execute_result"
    },
    {
     "data": {
      "image/png": "[encoded data removed]",
      "text/plain": [
       "<Figure size 432x288 with 1 Axes>"
      ]
     },
     "metadata": {
      "needs_background": "light"
     },
     "output_type": "display_data"
    }
   ],
   "source": [
    "df['Longer delivery period'].value_counts().plot.barh()"
   ]
  },
  {
   "cell_type": "code",
   "execution_count": 87,
   "metadata": {},
   "outputs": [
    {
     "data": {
      "text/plain": [
       "<AxesSubplot:>"
      ]
     },
     "execution_count": 87,
     "metadata": {},
     "output_type": "execute_result"
    },
    {
     "data": {
      "image/png": "[encoded data removed]",
      "text/plain": [
       "<Figure size 432x288 with 1 Axes>"
      ]
     },
     "metadata": {
      "needs_background": "light"
     },
     "output_type": "display_data"
    }
   ],
   "source": [
    "loyal['Longer delivery period'].value_counts().plot.barh()"
   ]
  },
  {
   "cell_type": "code",
   "execution_count": 88,
   "metadata": {},
   "outputs": [
    {
     "data": {
      "text/plain": [
       "Amazon.in                   96\n",
       "Paytm.com                   63\n",
       "Amazon.in, Flipkart.com     45\n",
       "Myntra.com                  30\n",
       "Flipkart.com                20\n",
       "Snapdeal.com                 8\n",
       "Flipkart.com, Myntra.com     7\n",
       "Name: Change in website/Application design, dtype: int64"
      ]
     },
     "execution_count": 88,
     "metadata": {},
     "output_type": "execute_result"
    }
   ],
   "source": [
    "df['Change in website/Application design'].value_counts()"
   ]
  },
  {
   "cell_type": "code",
   "execution_count": 89,
   "metadata": {},
   "outputs": [
    {
     "data": {
      "text/plain": [
       "Amazon.in                     53\n",
       "Myntra.com                    52\n",
       "Snapdeal.com                  49\n",
       "Paytm.com                     39\n",
       "Flipkart.com                  26\n",
       "Amazon.in, Flipkart.com       25\n",
       "Myntra.com, Snapdeal.com      14\n",
       "Flipkart.com, Snapdeal.com    11\n",
       "Name: Frequent disruption when moving from one page to another, dtype: int64"
      ]
     },
     "execution_count": 89,
     "metadata": {},
     "output_type": "execute_result"
    }
   ],
   "source": [
    "df['Frequent disruption when moving from one page to another'].value_counts()"
   ]
  },
  {
   "cell_type": "code",
   "execution_count": 90,
   "metadata": {},
   "outputs": [
    {
     "data": {
      "text/plain": [
       "<AxesSubplot:>"
      ]
     },
     "execution_count": 90,
     "metadata": {},
     "output_type": "execute_result"
    },
    {
     "data": {
      "image/png": "[encoded data removed]",
      "text/plain": [
       "<Figure size 432x288 with 1 Axes>"
      ]
     },
     "metadata": {
      "needs_background": "light"
     },
     "output_type": "display_data"
    }
   ],
   "source": [
    "df['Website is as efficient as before'].value_counts().plot.barh()"
   ]
  },
  {
   "cell_type": "code",
   "execution_count": 91,
   "metadata": {},
   "outputs": [
    {
     "data": {
      "text/plain": [
       "<AxesSubplot:>"
      ]
     },
     "execution_count": 91,
     "metadata": {},
     "output_type": "execute_result"
    },
    {
     "data": {
      "image/png": "[encoded data removed]",
      "text/plain": [
       "<Figure size 432x288 with 1 Axes>"
      ]
     },
     "metadata": {
      "needs_background": "light"
     },
     "output_type": "display_data"
    }
   ],
   "source": [
    "df['Which of the Indian online retailer would you recommend to a friend?'].value_counts().plot.barh()"
   ]
  },
  {
   "cell_type": "code",
   "execution_count": 92,
   "metadata": {},
   "outputs": [
    {
     "data": {
      "text/plain": [
       "<AxesSubplot:>"
      ]
     },
     "execution_count": 92,
     "metadata": {},
     "output_type": "execute_result"
    },
    {
     "data": {
      "image/png": "[encoded data removed]",
      "text/plain": [
       "<Figure size 432x288 with 1 Axes>"
      ]
     },
     "metadata": {
      "needs_background": "light"
     },
     "output_type": "display_data"
    }
   ],
   "source": [
    "loyal['Which of the Indian online retailer would you recommend to a friend?'].value_counts().plot.barh()"
   ]
  },
  {
   "cell_type": "code",
   "execution_count": 94,
   "metadata": {},
   "outputs": [],
   "source": [
    "#From the above charts and analysis, it is clear that amazon has the most upper hand clearly because it has a much better reputation and trust, delivery times are good, transperancy and offers communicated before hand.\n",
    "#This is followed by flipkart, myntra and then theother players in the market"
   ]
  },
  {
   "cell_type": "code",
   "execution_count": 101,
   "metadata": {},
   "outputs": [
    {
     "data": {
      "text/plain": [
       "<AxesSubplot:xlabel='Which of the Indian online retailer would you recommend to a friend?', ylabel='count'>"
      ]
     },
     "execution_count": 101,
     "metadata": {},
     "output_type": "execute_result"
    },
    {
     "data": {
      "image/png": "[encoded data removed]",
      "text/plain": [
       "<Figure size 1800x720 with 1 Axes>"
      ]
     },
     "metadata": {
      "needs_background": "light"
     },
     "output_type": "display_data"
    }
   ],
   "source": [
    "plt.figure(figsize=(25,10))\n",
    "sns.countplot(df['Which of the Indian online retailer would you recommend to a friend?'],hue=df['How old are you?'])"
   ]
  },
  {
   "cell_type": "code",
   "execution_count": 102,
   "metadata": {},
   "outputs": [
    {
     "data": {
      "text/plain": [
       "Index(['Gender of respondent', 'How old are you?',\n",
       "       'Which city do you shop online from?',\n",
       "       'What is the Pin Code of where you shop online from?',\n",
       "       'Since How Long You are Shopping Online ?',\n",
       "       'How many times you have made an online purchase in the past 1 year?',\n",
       "       'How do you access the internet while shopping on-line?',\n",
       "       'Which device do you use to access the online shopping?',\n",
       "       'What is the screen size of your mobile device?',\n",
       "       'What is the operating system (OS) of your device?',\n",
       "       'What browser do you run on your device to access the website?',\n",
       "       'Which channel did you follow to arrive at your favorite online store for the first time?',\n",
       "       'After first visit, how do you reach the online retail store?',\n",
       "       'How much time do you explore the e- retail store before making a purchase decision?',\n",
       "       'What is your preferred payment Option?',\n",
       "       'How frequently do you abandon (selecting an items and leaving without making payment) your shopping cart?',\n",
       "       'Why did you abandon the “Bag”, “Shopping Cart”?',\n",
       "       'The content on the website must be easy to read and understand',\n",
       "       'Information on similar product to the one highlighted is important for product comparison',\n",
       "       'Complete information on listed seller and product being offered is important for purchase decision',\n",
       "       'All relevant information on listed products must be stated clearly',\n",
       "       'Ease of navigation in website', 'Loading and processing speed',\n",
       "       'User friendly Interface of the website', 'Convenient Payment methods',\n",
       "       'Trust that the online retail store will fulfill its part of the transaction at the stipulated time',\n",
       "       'Empathy (readiness to assist with queries) towards the customers',\n",
       "       'Being able to guarantee the privacy of the customer',\n",
       "       'Responsiveness, availability of several communication channels (email, online rep, twitter, phone etc.)',\n",
       "       'Online shopping gives monetary benefit and discounts',\n",
       "       'Enjoyment is derived from shopping online',\n",
       "       'Shopping online is convenient and flexible',\n",
       "       'Return and replacement policy of the e-tailer is important for purchase decision',\n",
       "       'Gaining access to loyalty programs is a benefit of shopping online',\n",
       "       'Displaying quality Information on the website improves satisfaction of customers',\n",
       "       'User derive satisfaction while shopping on a good quality website or application',\n",
       "       'Net Benefit derived from shopping online can lead to users satisfaction',\n",
       "       'User satisfaction cannot exist without trust',\n",
       "       'Offering a wide variety of listed product in several category',\n",
       "       'Provision of complete and relevant product information',\n",
       "       'Monetary savings',\n",
       "       'The Convenience of patronizing the online retailer',\n",
       "       'Shopping on the website gives you the sense of adventure',\n",
       "       'Shopping on your preferred e-tailer enhances your social status',\n",
       "       'You feel gratification shopping on your favorite e-tailer',\n",
       "       'Shopping on the website helps you fulfill certain roles',\n",
       "       'Getting value for money spent',\n",
       "       'From the following, tick any (or all) of the online retailers you have shopped from;',\n",
       "       'Easy to use website or application',\n",
       "       'Visual appealing web-page layout', 'Wild variety of product on offer',\n",
       "       'Complete, relevant description information of products',\n",
       "       'Fast loading website speed of website and application',\n",
       "       'Reliability of the website or application',\n",
       "       'Quickness to complete purchase',\n",
       "       'Availability of several payment options', 'Speedy order delivery',\n",
       "       'Privacy of customers’ information',\n",
       "       'Security of customer financial information',\n",
       "       'Perceived Trustworthiness',\n",
       "       'Presence of online assistance through multi-channel',\n",
       "       'Longer time to get logged in (promotion, sales period)',\n",
       "       'Longer time in displaying graphics and photos (promotion, sales period)',\n",
       "       'Late declaration of price (promotion, sales period)',\n",
       "       'Longer page loading time (promotion, sales period)',\n",
       "       'Limited mode of payment on most products (promotion, sales period)',\n",
       "       'Longer delivery period', 'Change in website/Application design',\n",
       "       'Frequent disruption when moving from one page to another',\n",
       "       'Website is as efficient as before',\n",
       "       'Which of the Indian online retailer would you recommend to a friend?'],\n",
       "      dtype='object')"
      ]
     },
     "execution_count": 102,
     "metadata": {},
     "output_type": "execute_result"
    }
   ],
   "source": [
    "df.columns"
   ]
  },
  {
   "cell_type": "code",
   "execution_count": 103,
   "metadata": {},
   "outputs": [
    {
     "data": {
      "text/plain": [
       "<AxesSubplot:xlabel='Which of the Indian online retailer would you recommend to a friend?', ylabel='count'>"
      ]
     },
     "execution_count": 103,
     "metadata": {},
     "output_type": "execute_result"
    },
    {
     "data": {
      "image/png": "[encoded data removed]",
      "text/plain": [
       "<Figure size 1800x720 with 1 Axes>"
      ]
     },
     "metadata": {
      "needs_background": "light"
     },
     "output_type": "display_data"
    }
   ],
   "source": [
    "plt.figure(figsize=(25,10))\n",
    "sns.countplot(df['Which of the Indian online retailer would you recommend to a friend?'],hue=df['How frequently do you abandon (selecting an items and leaving without making payment) your shopping cart?'])"
   ]
  },
  {
   "cell_type": "code",
   "execution_count": 105,
   "metadata": {},
   "outputs": [
    {
     "data": {
      "text/plain": [
       "<AxesSubplot:xlabel='Which of the Indian online retailer would you recommend to a friend?', ylabel='count'>"
      ]
     },
     "execution_count": 105,
     "metadata": {},
     "output_type": "execute_result"
    },
    {
     "data": {
      "image/png": "[encoded data removed]",
      "text/plain": [
       "<Figure size 1800x720 with 1 Axes>"
      ]
     },
     "metadata": {
      "needs_background": "light"
     },
     "output_type": "display_data"
    }
   ],
   "source": [
    "plt.figure(figsize=(25,10))\n",
    "sns.countplot(df['Which of the Indian online retailer would you recommend to a friend?'],hue=df['Perceived Trustworthiness'])"
   ]
  },
  {
   "cell_type": "code",
   "execution_count": null,
   "metadata": {},
   "outputs": [],
   "source": []
  }
 ],
 "metadata": {
  "kernelspec": {
   "display_name": "Python 3",
   "language": "python",
   "name": "python3"
  },
  "language_info": {
   "codemirror_mode": {
    "name": "ipython",
    "version": 3
   },
   "file_extension": ".py",
   "mimetype": "text/x-python",
   "name": "python",
   "nbconvert_exporter": "python",
   "pygments_lexer": "ipython3",
   "version": "3.8.5"
  }
 },
 "nbformat": 4,
 "nbformat_minor": 4
}
